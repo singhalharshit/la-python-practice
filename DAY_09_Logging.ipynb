{
 "cells": [
  {
   "cell_type": "markdown",
   "metadata": {},
   "source": [
    "# Different level of logs from top to bottom or highest priority to lowest priority\n",
    "* Critical\n",
    "* Error\n",
    "* Warning\n",
    "* Info\n",
    "* debug\n",
    "* The series can go as 50>40>30>20>10\n",
    "\n",
    "##### Now what are these rankings and where are they used? \n",
    "So there are the rankings or the levels as in if I log INFO level of log I can't log anything in debug so if 20 is being used then logs would be created for 20 and above as in for INFO and above say for warning error and critical and nothing would be logged for Debug even if we try to.\n",
    "\n",
    "We will understand this more in the below examples"
   ]
  },
  {
   "cell_type": "code",
   "execution_count": 1,
   "metadata": {},
   "outputs": [],
   "source": [
    "import logging\n",
    "\n",
    "logging.basicConfig(filename='test.log',level=logging.INFO)\n",
    "logging.info(\"This is my first log\")\n",
    "l=[1,2,3,4,5,6,7,8,9]\n",
    "for i in l:\n",
    "    if i==2:\n",
    "        logging.info(i)"
   ]
  },
  {
   "cell_type": "code",
   "execution_count": 2,
   "metadata": {},
   "outputs": [],
   "source": [
    "logging.warning('This goes for warning')\n"
   ]
  },
  {
   "cell_type": "code",
   "execution_count": null,
   "metadata": {},
   "outputs": [
    {
     "ename": "",
     "evalue": "",
     "output_type": "error",
     "traceback": [
      "\u001b[1;31mThe Kernel crashed while executing code in the current cell or a previous cell. \n",
      "\u001b[1;31mPlease review the code in the cell(s) to identify a possible cause of the failure. \n",
      "\u001b[1;31mClick <a href='https://aka.ms/vscodeJupyterKernelCrash'>here</a> for more info. \n",
      "\u001b[1;31mView Jupyter <a href='command:jupyter.viewOutput'>log</a> for further details."
     ]
    }
   ],
   "source": [
    "\n",
    "logging.debug('This goes for debug')"
   ]
  },
  {
   "cell_type": "markdown",
   "metadata": {},
   "source": []
  },
  {
   "cell_type": "markdown",
   "metadata": {},
   "source": []
  }
 ],
 "metadata": {
  "kernelspec": {
   "display_name": "Python 3",
   "language": "python",
   "name": "python3"
  },
  "language_info": {
   "codemirror_mode": {
    "name": "ipython",
    "version": 3
   },
   "file_extension": ".py",
   "mimetype": "text/x-python",
   "name": "python",
   "nbconvert_exporter": "python",
   "pygments_lexer": "ipython3",
   "version": "3.12.2"
  }
 },
 "nbformat": 4,
 "nbformat_minor": 2
}
