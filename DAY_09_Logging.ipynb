{
 "cells": [
  {
   "cell_type": "markdown",
   "metadata": {},
   "source": [
    "# Different level of logs from top to bottom or highest priority to lowest priority\n",
    "* Critical\n",
    "* Error\n",
    "* Warning\n",
    "* Info\n",
    "* debug\n",
    "* The series can go as 50>40>30>20>10\n",
    "\n",
    "##### Now what are these rankings and where are they used? \n",
    "So there are the rankings or the levels as in if I log INFO level of log I can't log anything in debug so if 20 is being used then logs would be created for 20 and above as in for INFO and above say for warning error and critical and nothing would be logged for Debug even if we try to.\n",
    "\n",
    "We will understand this more in the below examples"
   ]
  },
  {
   "cell_type": "code",
   "execution_count": 18,
   "metadata": {},
   "outputs": [],
   "source": [
    "import logging\n",
    "\n",
    "logging.basicConfig(filename='test.log',level=logging.INFO)\n",
    "logging.info(\"This is my first log\")\n",
    "l=[1,2,3,4,5,6,7,8,9]\n",
    "for i in l:\n",
    "    if i==2:\n",
    "        logging.info(i)"
   ]
  },
  {
   "cell_type": "code",
   "execution_count": 19,
   "metadata": {},
   "outputs": [],
   "source": [
    "logging.warning('This goes for warning')\n"
   ]
  },
  {
   "cell_type": "code",
   "execution_count": 20,
   "metadata": {},
   "outputs": [],
   "source": [
    "logging.debug('This goes for debug')"
   ]
  },
  {
   "cell_type": "markdown",
   "metadata": {},
   "source": []
  },
  {
   "cell_type": "code",
   "execution_count": 21,
   "metadata": {},
   "outputs": [],
   "source": [
    "# As now we can see in the test.log file that warning has been logged, INFO has been logged but debug is not logged. This is what the comment in the upper part says that we can log only those content which are above certain ranking like in this case, warning is above of info and hence has been logged where as debug was below the same and hence was unable to be logged"
   ]
  },
  {
   "cell_type": "code",
   "execution_count": 35,
   "metadata": {},
   "outputs": [],
   "source": [
    "logging.basicConfig(filename='test4.log', level=logging.DEBUG, format='%(asctime)s %(levelname)s %(name)s %(message)s')\n",
    "logging.info('This is my log with timestamp_new')"
   ]
  },
  {
   "cell_type": "code",
   "execution_count": 30,
   "metadata": {},
   "outputs": [],
   "source": [
    "logging.basicConfig(filename='test.log', level= logging.INFO, format='%(asctime)s %(levelname)s %(name)s %(message)s')\n",
    "def divide(a,b):\n",
    "    logging.info('The values entered by the user are %s and %s', a,b)\n",
    "    try:\n",
    "        logging.info('Entered into function')\n",
    "        div =a/b\n",
    "        logging.info('We have completed the division with the value %s', div)\n",
    "        return div\n",
    "    except Exception as e:\n",
    "        logging.exception(e)\n",
    "\n",
    "\n",
    "divide(12,0)\n",
    "# This is a basic program which explain what happens in production grade of code and how logging can help a lot. You can take as a example where we check the polaris logs in which we search for error"
   ]
  },
  {
   "cell_type": "code",
   "execution_count": null,
   "metadata": {},
   "outputs": [],
   "source": []
  }
 ],
 "metadata": {
  "kernelspec": {
   "display_name": "Python 3",
   "language": "python",
   "name": "python3"
  },
  "language_info": {
   "codemirror_mode": {
    "name": "ipython",
    "version": 3
   },
   "file_extension": ".py",
   "mimetype": "text/x-python",
   "name": "python",
   "nbconvert_exporter": "python",
   "pygments_lexer": "ipython3",
   "version": "3.12.2"
  }
 },
 "nbformat": 4,
 "nbformat_minor": 2
}
