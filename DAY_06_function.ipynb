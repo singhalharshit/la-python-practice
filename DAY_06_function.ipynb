{
 "cells": [
  {
   "cell_type": "markdown",
   "metadata": {},
   "source": [
    "# Functions in python"
   ]
  },
  {
   "cell_type": "code",
   "execution_count": 3,
   "metadata": {},
   "outputs": [
    {
     "data": {
      "text/plain": [
       "9"
      ]
     },
     "execution_count": 3,
     "metadata": {},
     "output_type": "execute_result"
    }
   ],
   "source": [
    "def test(a,b): # def is reserved keyword and test is the name of a function and a,b are the argurmetns which will take some values when the function is called. These types of arguments are called default parameters or arguments\n",
    "    return a+b\n",
    "\n",
    "test(4,5)"
   ]
  },
  {
   "cell_type": "code",
   "execution_count": 4,
   "metadata": {},
   "outputs": [
    {
     "data": {
      "text/plain": [
       "17"
      ]
     },
     "execution_count": 4,
     "metadata": {},
     "output_type": "execute_result"
    }
   ],
   "source": [
    "test(a=10, b=7) # we can pass the values in this way"
   ]
  },
  {
   "cell_type": "code",
   "execution_count": 6,
   "metadata": {},
   "outputs": [
    {
     "data": {
      "text/plain": [
       "12"
      ]
     },
     "execution_count": 6,
     "metadata": {},
     "output_type": "execute_result"
    }
   ],
   "source": [
    "# How to create a docstring? A docstring is the explaination of a funtion and is created by triple quotes. How to check it in the vscode just hover over the function and you can see this docstring written in the below of the explaination of the function\n",
    "\n",
    "def test1(a, b):\n",
    "    '''This function will add two variable'''\n",
    "    return a+b\n",
    "\n",
    "test1(10,2)"
   ]
  },
  {
   "cell_type": "code",
   "execution_count": 7,
   "metadata": {},
   "outputs": [
    {
     "ename": "TypeError",
     "evalue": "test2() missing 1 required positional argument: 'e'",
     "output_type": "error",
     "traceback": [
      "\u001b[1;31m---------------------------------------------------------------------------\u001b[0m",
      "\u001b[1;31mTypeError\u001b[0m                                 Traceback (most recent call last)",
      "Cell \u001b[1;32mIn[7], line 6\u001b[0m\n\u001b[0;32m      3\u001b[0m \u001b[38;5;28;01mdef\u001b[39;00m \u001b[38;5;21mtest2\u001b[39m(a,b,c,d,e):\n\u001b[0;32m      4\u001b[0m     \u001b[38;5;28;01mreturn\u001b[39;00m a\u001b[38;5;241m+\u001b[39mb\u001b[38;5;241m+\u001b[39mc\u001b[38;5;241m+\u001b[39md\n\u001b[1;32m----> 6\u001b[0m \u001b[43mtest2\u001b[49m\u001b[43m(\u001b[49m\u001b[38;5;241;43m1\u001b[39;49m\u001b[43m,\u001b[49m\u001b[38;5;241;43m2\u001b[39;49m\u001b[43m,\u001b[49m\u001b[38;5;241;43m3\u001b[39;49m\u001b[43m,\u001b[49m\u001b[38;5;241;43m4\u001b[39;49m\u001b[43m)\u001b[49m\n",
      "\u001b[1;31mTypeError\u001b[0m: test2() missing 1 required positional argument: 'e'"
     ]
    }
   ],
   "source": [
    "# We can pass n number of parameters in a function but the condtion if they are being hardcoded way (as told below) all the variables must be used else it will throw an error\n",
    "\n",
    "def test2(a,b,c,d,e):\n",
    "    return a+b+c+d\n",
    "\n",
    "test2(1,2,3,4)\n",
    "\n",
    "# We can see that we got an error that one argument is missing"
   ]
  },
  {
   "cell_type": "code",
   "execution_count": 11,
   "metadata": {},
   "outputs": [
    {
     "data": {
      "text/plain": [
       "(1, 2, 3, 4, 5, 6, 76, 87)"
      ]
     },
     "execution_count": 11,
     "metadata": {},
     "output_type": "execute_result"
    }
   ],
   "source": [
    "# How to handle above error\n",
    "\n",
    "def test3(*args): # args is not a reserved keyword instead a convention we can even pass *a or *harshit or anything. The * is the thing which helps us in passing n number of arguments\n",
    "    return args\n",
    "\n",
    "test3(1,2,3,4)\n",
    "test3(1,2)\n",
    "test3(1,2,3,4,5,6,76,87)"
   ]
  },
  {
   "cell_type": "code",
   "execution_count": 13,
   "metadata": {},
   "outputs": [
    {
     "data": {
      "text/plain": [
       "[1, 2, 3, 4, 5, 6]"
      ]
     },
     "execution_count": 13,
     "metadata": {},
     "output_type": "execute_result"
    }
   ],
   "source": [
    "# Earlier we can that the output has been in tuples but we have a requirement where we want the output in the list\n",
    "\n",
    "def test4(*args):\n",
    "    return list[args]\n",
    "\n",
    "test4(1,2,3,34,4,5)\n",
    "\n",
    "# but now you don't want list to be written in the output so we can do the below workaroud"
   ]
  },
  {
   "cell_type": "code",
   "execution_count": 14,
   "metadata": {},
   "outputs": [
    {
     "data": {
      "text/plain": [
       "[1, 2, 3, 4, 5, 6]"
      ]
     },
     "execution_count": 14,
     "metadata": {},
     "output_type": "execute_result"
    }
   ],
   "source": [
    "def test5(*args):\n",
    "    l=[]\n",
    "    for i in args:\n",
    "        l.append(i)\n",
    "    return l\n",
    "\n",
    "test5(1,2,3,4,5,6)"
   ]
  },
  {
   "cell_type": "code",
   "execution_count": 16,
   "metadata": {},
   "outputs": [
    {
     "data": {
      "text/plain": [
       "(1, 2, 3, (4, 5, 6, 7, 8))"
      ]
     },
     "execution_count": 16,
     "metadata": {},
     "output_type": "execute_result"
    }
   ],
   "source": [
    "# We can pass default and *args both at the same time but remember default arguments have to before the *args. The reason is because if *args is before the default arguments whatever you pass it will be a part of *args as this argument doesnot have a limit and even if you assign a value to the default variable *args will never let you reach there. More explaination is below in the code\n",
    "\n",
    "def test6(a,b,c,*args):\n",
    "    return a,b,c,args\n",
    "\n",
    "test6(1,2,3,4,5,6,7,8)\n",
    "\n",
    "# Now we can see that when we passed the value 1,2,3 were taken by a,b,c but rest other came out as a part of tuple which is a part of args"
   ]
  },
  {
   "cell_type": "code",
   "execution_count": 20,
   "metadata": {},
   "outputs": [
    {
     "ename": "TypeError",
     "evalue": "test7() missing 3 required keyword-only arguments: 'a', 'b', and 'c'",
     "output_type": "error",
     "traceback": [
      "\u001b[1;31m---------------------------------------------------------------------------\u001b[0m",
      "\u001b[1;31mTypeError\u001b[0m                                 Traceback (most recent call last)",
      "Cell \u001b[1;32mIn[20], line 4\u001b[0m\n\u001b[0;32m      1\u001b[0m \u001b[38;5;28;01mdef\u001b[39;00m \u001b[38;5;21mtest7\u001b[39m(\u001b[38;5;241m*\u001b[39margs,a,b,c):\n\u001b[0;32m      2\u001b[0m     \u001b[38;5;28;01mreturn\u001b[39;00m args,a,b,c\n\u001b[1;32m----> 4\u001b[0m \u001b[43mtest7\u001b[49m\u001b[43m(\u001b[49m\u001b[38;5;241;43m1\u001b[39;49m\u001b[43m,\u001b[49m\u001b[38;5;241;43m2\u001b[39;49m\u001b[43m,\u001b[49m\u001b[38;5;241;43m3\u001b[39;49m\u001b[43m,\u001b[49m\u001b[38;5;241;43m4\u001b[39;49m\u001b[43m,\u001b[49m\u001b[38;5;241;43m5\u001b[39;49m\u001b[43m,\u001b[49m\u001b[38;5;241;43m6\u001b[39;49m\u001b[43m)\u001b[49m\n\u001b[0;32m      6\u001b[0m \u001b[38;5;66;03m# This will always throw an error as the default parameters can't get any value\u001b[39;00m\n",
      "\u001b[1;31mTypeError\u001b[0m: test7() missing 3 required keyword-only arguments: 'a', 'b', and 'c'"
     ]
    }
   ],
   "source": [
    "def test7(*args,a,b,c):\n",
    "    return args,a,b,c\n",
    "\n",
    "test7(1,2,3,4,5,6)\n",
    "\n",
    "# This will always throw an error as the default parameters can't get any value"
   ]
  },
  {
   "cell_type": "code",
   "execution_count": 22,
   "metadata": {},
   "outputs": [
    {
     "data": {
      "text/plain": [
       "((1, 2, 3, 4), 10, 20, 30)"
      ]
     },
     "execution_count": 22,
     "metadata": {},
     "output_type": "execute_result"
    }
   ],
   "source": [
    "# To handle this there is only one option that you assign some value to the default arguments\n",
    "\n",
    "def test8(*args,a=10,b=20,c=30):\n",
    "    return args, a,b,c\n",
    "\n",
    "test8(1,2,3,4)\n",
    "\n",
    "# We can see that 1,2,3,4 became the part of args and the default values were called"
   ]
  },
  {
   "cell_type": "code",
   "execution_count": 23,
   "metadata": {},
   "outputs": [
    {
     "data": {
      "text/plain": [
       "{'a': 1, 'b': 2, 'c': 3, 'd': 4}"
      ]
     },
     "execution_count": 23,
     "metadata": {},
     "output_type": "execute_result"
    }
   ],
   "source": [
    "# If one want to pass key-value pair as the arguments in the function- **kwargs should be used. Now again kwargs is not a reserved keyword the change is made through **. The kwargs are just an convention. We can even use my name or anything. And if you are using a **kwargs as a parameter you must pass a dict in the keys and values and the output will be a dict\n",
    "\n",
    "def test9(**kwargs):\n",
    "    return kwargs\n",
    "\n",
    "test9(a=1, b=2, c=3, d=4)"
   ]
  },
  {
   "cell_type": "code",
   "execution_count": 25,
   "metadata": {},
   "outputs": [
    {
     "ename": "TypeError",
     "evalue": "test9() takes 0 positional arguments but 1 was given",
     "output_type": "error",
     "traceback": [
      "\u001b[1;31m---------------------------------------------------------------------------\u001b[0m",
      "\u001b[1;31mTypeError\u001b[0m                                 Traceback (most recent call last)",
      "Cell \u001b[1;32mIn[25], line 3\u001b[0m\n\u001b[0;32m      1\u001b[0m \u001b[38;5;66;03m# if you will pass the values just like args it will give an error\u001b[39;00m\n\u001b[1;32m----> 3\u001b[0m \u001b[43mtest9\u001b[49m\u001b[43m(\u001b[49m\u001b[38;5;241;43m10\u001b[39;49m\u001b[43m)\u001b[49m\n",
      "\u001b[1;31mTypeError\u001b[0m: test9() takes 0 positional arguments but 1 was given"
     ]
    }
   ],
   "source": [
    "# if you will pass the values just like args it will give an error\n",
    "\n",
    "test9(10)\n",
    "\n",
    "# Becuase ** is used a key value pair must be passed"
   ]
  },
  {
   "cell_type": "code",
   "execution_count": 28,
   "metadata": {},
   "outputs": [
    {
     "data": {
      "text/plain": [
       "(36, 'harshit singhal ')"
      ]
     },
     "execution_count": 28,
     "metadata": {},
     "output_type": "execute_result"
    }
   ],
   "source": [
    "# using loops and if else in a function\n",
    "\n",
    "def test10(*harshit): #Tried to break the convention of *args so that one can understand the game is of * not args\n",
    "    a=0\n",
    "    b=''\n",
    "    for i in harshit:\n",
    "        if type(i)==int:\n",
    "            a+=i\n",
    "        elif type(i)==str:\n",
    "            b+=i+' ' # Adding a string with a blank space\n",
    "        else:\n",
    "            break\n",
    "    \n",
    "    return a,b\n",
    "\n",
    "test10(1,2,3,4,5,6,7,8,'harshit','singhal')\n",
    "\n"
   ]
  },
  {
   "cell_type": "markdown",
   "metadata": {},
   "source": [
    "# Lambda Function\n",
    "* Also called as anonymous function or inline function"
   ]
  },
  {
   "cell_type": "code",
   "execution_count": 30,
   "metadata": {},
   "outputs": [
    {
     "data": {
      "text/plain": [
       "9"
      ]
     },
     "execution_count": 30,
     "metadata": {},
     "output_type": "execute_result"
    }
   ],
   "source": [
    "# lambda - it's a reserved keyword\n",
    "\n",
    "n= lambda a,b: a+b\n",
    "n(4,5)\n",
    "\n",
    "# So a lambda function is stored in a variable and is equivalent to a normal function made by def\n",
    "# Not generally referred for complex logic as this will become very clumsy and a headache. Complex logic is avoided but not preferred\n",
    "# We can use *args or **kwargs with lambda also"
   ]
  },
  {
   "cell_type": "code",
   "execution_count": 31,
   "metadata": {},
   "outputs": [
    {
     "data": {
      "text/plain": [
       "(1, 2, 3, 4, 5, 6)"
      ]
     },
     "execution_count": 31,
     "metadata": {},
     "output_type": "execute_result"
    }
   ],
   "source": [
    "b= lambda *agrgs: agrgs\n",
    "\n",
    "b(1,2,3,4,5,6)"
   ]
  },
  {
   "cell_type": "code",
   "execution_count": 34,
   "metadata": {},
   "outputs": [
    {
     "name": "stdout",
     "output_type": "stream",
     "text": [
      "[1, 23, 4, 5, 6, 7, 8, 9, 2, 3]\n"
     ]
    },
    {
     "data": {
      "text/plain": [
       "[1, 23, 4, 5, 6, 7, 8, 9, 2, 3]"
      ]
     },
     "execution_count": 34,
     "metadata": {},
     "output_type": "execute_result"
    }
   ],
   "source": [
    "# Comprehension (especially with list)\n",
    "\n",
    "t= (1,23,4,5,6,7,8,9,2,3)\n",
    "l= []\n",
    "for i in t:\n",
    "    l.append(i)\n",
    "print(l)\n",
    "\n",
    "# this was the way we were using till now. Now we will change it into different list comprehension\n",
    "\n",
    "[i for i in t]\n",
    "\n",
    "# This could be understood as [<value of loop/ I want> <loop or any logic>]\n"
   ]
  },
  {
   "cell_type": "code",
   "execution_count": null,
   "metadata": {},
   "outputs": [],
   "source": []
  }
 ],
 "metadata": {
  "kernelspec": {
   "display_name": "Python 3",
   "language": "python",
   "name": "python3"
  },
  "language_info": {
   "codemirror_mode": {
    "name": "ipython",
    "version": 3
   },
   "file_extension": ".py",
   "mimetype": "text/x-python",
   "name": "python",
   "nbconvert_exporter": "python",
   "pygments_lexer": "ipython3",
   "version": "3.12.2"
  }
 },
 "nbformat": 4,
 "nbformat_minor": 2
}
