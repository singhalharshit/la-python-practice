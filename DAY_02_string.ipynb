{
 "cells": [
  {
   "cell_type": "code",
   "execution_count": 1,
   "id": "38eb4d41",
   "metadata": {},
   "outputs": [
    {
     "data": {
      "text/plain": [
       "('i', 'o', 'n', 'r')"
      ]
     },
     "execution_count": 1,
     "metadata": {},
     "output_type": "execute_result"
    }
   ],
   "source": [
    "s = \"ineuron\"\n",
    "type(s) # This will give the type of a variable\n",
    "\n",
    "# Understanding the concept of indexing. If moving positive then we will get the forward context and if we will move in the negative direction we will get the backword content\n",
    "a = s[0]\n",
    "b = s[5]\n",
    "c = s[-1]\n",
    "d = s[-3]\n",
    "a,b,c,d"
   ]
  },
  {
   "cell_type": "code",
   "execution_count": 2,
   "id": "6b963500",
   "metadata": {},
   "outputs": [
    {
     "data": {
      "text/plain": [
       "('Harshi', 'Harshit', 'Harshi', 'Hrh', 'i', 'tihsra', 'tihsraH', '')"
      ]
     },
     "execution_count": 2,
     "metadata": {},
     "output_type": "execute_result"
    }
   ],
   "source": [
    "s1= \"Harshit\"\n",
    "\n",
    "# Understanding the concept of index slicing \n",
    "\n",
    "a = s1[0:6]\n",
    "b = s1[0:]\n",
    "c = s1[:6]\n",
    "d = s1[0:6:2] # In this case the 2 is jump size which by default is 1 so the answer of d is Hrh because it is taking a jump of 2\n",
    "e = s1[5]\n",
    "f = s1[8:0:-1] # If you want to reverse a string make sure to use the last index in first place and if you are unsure about the indexes then you can use the below hack which is you can reverse a string without passing parameter like the one below and you can reverse the string\n",
    "g = s1[::-1]\n",
    "h = s1[-5:0:1] # Why this is coming blank? => The reason is you can not move from negative to positive\n",
    "a,b,c,d,e,f,g,h"
   ]
  },
  {
   "cell_type": "code",
   "execution_count": 3,
   "id": "1e302549",
   "metadata": {},
   "outputs": [
    {
     "data": {
      "text/plain": [
       "'his '"
      ]
     },
     "execution_count": 3,
     "metadata": {},
     "output_type": "execute_result"
    }
   ],
   "source": [
    "s2 = \"this is my very first programming class's\"\n",
    "# This is demonstrate that if you are about to use single quote (') or double quotes (\"\") in a senctence like one in above a single quote is being used so we will enclose the sentence in double.\n",
    "# Now let's perform more operation on strings\n",
    "s2[1:5]\n",
    "\n",
    "# As you can see it started from position 1 which is h and ended with space excluding the upper bound (i.e. the last digit for index slicing like in this case 5. It will exclude this )"
   ]
  },
  {
   "cell_type": "code",
   "execution_count": 4,
   "id": "dfa0f02d",
   "metadata": {},
   "outputs": [
    {
     "data": {
      "text/plain": [
       "'elephantelephant'"
      ]
     },
     "execution_count": 4,
     "metadata": {},
     "output_type": "execute_result"
    }
   ],
   "source": [
    "s3= \"elephant\"\n",
    "\n",
    "# a= s3+1 # This is going to throw an error as string and integer can't be done so if you to concatenate a string and integer you need to typecasting or need to convert it into string\n",
    "# b = s3+'1'\n",
    "# c= s3+str(2)\n",
    "# b,c\n",
    "\n",
    "# Tring to find the length of a string\n",
    "\n",
    "# len(s3)\n",
    "\n",
    "# Checking the multiplication with string\n",
    "s3*2"
   ]
  },
  {
   "cell_type": "code",
   "execution_count": 5,
   "id": "e2319366",
   "metadata": {},
   "outputs": [
    {
     "data": {
      "text/plain": [
       "(2, ['', 'l', 'phant'])"
      ]
     },
     "execution_count": 5,
     "metadata": {},
     "output_type": "execute_result"
    }
   ],
   "source": [
    "# Using the inbuilt function for a string\n",
    "\n",
    "a= s3.count('e') # This function tells you the count of occurence of a character/word/sentence in a Name/sentence/paragraph .You need to pass an argument into the count function and this arugument can be a character a word or a sectence. count() fucntion arguments are case sensitive like s3 doesn't have E it has e so if you pass s3.count('E') it will return 0\n",
    "\n",
    "b= s3.split('e') # This function will split the a sentence/wrod based on the character, word it passed so like in this case where I am using e as splitter so where ever the 'e' was it has splitted the word from there and will return a list of the substrings in the string. ALSO A SEPRATER CAN BE A BLANK SPACE ALSO, INORDER TO SPLIT THE SENTENCE OR WORDS\n",
    "\n",
    "a,b"
   ]
  },
  {
   "cell_type": "code",
   "execution_count": 6,
   "id": "5dcacc72",
   "metadata": {},
   "outputs": [
    {
     "data": {
      "text/plain": [
       "(['The',\n",
       "  'Samsung',\n",
       "  'Group[3]',\n",
       "  '(or',\n",
       "  'simply',\n",
       "  'Samsung,',\n",
       "  'stylized',\n",
       "  'as',\n",
       "  'SΛMSUNG)',\n",
       "  '(Korean:',\n",
       "  '삼성',\n",
       "  '[samsʌŋ])',\n",
       "  'is',\n",
       "  'a',\n",
       "  'South',\n",
       "  'Korean',\n",
       "  'multinational',\n",
       "  'manufacturing',\n",
       "  'conglomerate',\n",
       "  'headquartered',\n",
       "  'in',\n",
       "  'Samsung',\n",
       "  'Town,',\n",
       "  'Seoul,',\n",
       "  'South',\n",
       "  'Korea.[1]',\n",
       "  'It',\n",
       "  'comprises',\n",
       "  'numerous',\n",
       "  'affiliated',\n",
       "  'businesses,[1]',\n",
       "  'most',\n",
       "  'of',\n",
       "  'them',\n",
       "  'united',\n",
       "  'under',\n",
       "  'the',\n",
       "  'Samsung',\n",
       "  'brand,',\n",
       "  'and',\n",
       "  'is',\n",
       "  'the',\n",
       "  'largest',\n",
       "  'South',\n",
       "  'Korean',\n",
       "  'chaebol',\n",
       "  '(business',\n",
       "  'conglomerate).',\n",
       "  'As',\n",
       "  'of',\n",
       "  '2020,',\n",
       "  'Samsung',\n",
       "  'has',\n",
       "  'the',\n",
       "  '8th',\n",
       "  'highest',\n",
       "  'global',\n",
       "  'brand',\n",
       "  'value.[4]\\n\\nSamsung',\n",
       "  'was',\n",
       "  'founded',\n",
       "  'by',\n",
       "  'Lee',\n",
       "  'Byung-chul',\n",
       "  'in',\n",
       "  '1938',\n",
       "  'as',\n",
       "  'a',\n",
       "  'trading',\n",
       "  'company.',\n",
       "  'Over',\n",
       "  'the',\n",
       "  'next',\n",
       "  'three',\n",
       "  'decades,',\n",
       "  'the',\n",
       "  'group',\n",
       "  'diversified',\n",
       "  'into',\n",
       "  'areas',\n",
       "  'including',\n",
       "  'food',\n",
       "  'processing,',\n",
       "  'textiles,',\n",
       "  'insurance,',\n",
       "  'securities,',\n",
       "  'and',\n",
       "  'retail.',\n",
       "  'Samsung',\n",
       "  'entered',\n",
       "  'the',\n",
       "  'electronics',\n",
       "  'industry',\n",
       "  'in',\n",
       "  'the',\n",
       "  'late',\n",
       "  '1960s',\n",
       "  'and',\n",
       "  'the',\n",
       "  'construction',\n",
       "  'and',\n",
       "  'shipbuilding',\n",
       "  'industries',\n",
       "  'in',\n",
       "  'the',\n",
       "  'mid-1970s;',\n",
       "  'these',\n",
       "  'areas',\n",
       "  'would',\n",
       "  'drive',\n",
       "  'its',\n",
       "  'subsequent',\n",
       "  'growth.',\n",
       "  'Following',\n",
       "  \"Lee's\",\n",
       "  'death',\n",
       "  'in',\n",
       "  '1987,',\n",
       "  'Samsung',\n",
       "  'was',\n",
       "  'separated',\n",
       "  'into',\n",
       "  'five',\n",
       "  'business',\n",
       "  'groups',\n",
       "  '–',\n",
       "  'Samsung',\n",
       "  'Group,',\n",
       "  'Shinsegae',\n",
       "  'Group,',\n",
       "  'CJ',\n",
       "  'Group',\n",
       "  'and',\n",
       "  'Hansol',\n",
       "  'Group,',\n",
       "  'and',\n",
       "  'Joongang',\n",
       "  'Group.\\n\\nNotable',\n",
       "  'Samsung',\n",
       "  'industrial',\n",
       "  'affiliates',\n",
       "  'include',\n",
       "  'Samsung',\n",
       "  'Electronics',\n",
       "  '(the',\n",
       "  \"world's\",\n",
       "  'largest',\n",
       "  'information',\n",
       "  'technology',\n",
       "  'company,',\n",
       "  'consumer',\n",
       "  'electronics',\n",
       "  'maker',\n",
       "  'and',\n",
       "  'chipmaker',\n",
       "  'measured',\n",
       "  'by',\n",
       "  '2017',\n",
       "  'revenues),[5][6]',\n",
       "  'Samsung',\n",
       "  'Heavy',\n",
       "  'Industries',\n",
       "  '(the',\n",
       "  \"world's\",\n",
       "  '2nd',\n",
       "  'largest',\n",
       "  'shipbuilder',\n",
       "  'measured',\n",
       "  'by',\n",
       "  '2010',\n",
       "  'revenues),[7]',\n",
       "  'and',\n",
       "  'Samsung',\n",
       "  'Engineering',\n",
       "  'and',\n",
       "  'Samsung',\n",
       "  'C&T',\n",
       "  'Corporation',\n",
       "  '(respectively',\n",
       "  'the',\n",
       "  \"world's\",\n",
       "  '13th',\n",
       "  'and',\n",
       "  '36th',\n",
       "  'largest',\n",
       "  'construction',\n",
       "  'companies).[8]',\n",
       "  'Other',\n",
       "  'notable',\n",
       "  'subsidiaries',\n",
       "  'include',\n",
       "  'Samsung',\n",
       "  'Life',\n",
       "  'Insurance',\n",
       "  '(the',\n",
       "  \"world's\",\n",
       "  '14th',\n",
       "  'largest',\n",
       "  'life',\n",
       "  'insurance',\n",
       "  'company),[9]',\n",
       "  'Samsung',\n",
       "  'Everland',\n",
       "  '(operator',\n",
       "  'of',\n",
       "  'Everland',\n",
       "  'Resort,',\n",
       "  'the',\n",
       "  'oldest',\n",
       "  'theme',\n",
       "  'park',\n",
       "  'in',\n",
       "  'South',\n",
       "  'Korea)[10]',\n",
       "  'and',\n",
       "  'Cheil',\n",
       "  'Worldwide',\n",
       "  '(the',\n",
       "  \"world's\",\n",
       "  '15th',\n",
       "  'largest',\n",
       "  'advertising',\n",
       "  'agency,',\n",
       "  'as',\n",
       "  'measured',\n",
       "  'by',\n",
       "  '2012',\n",
       "  'revenues).[11][12]'],\n",
       " \"THE SAMSUNG GROUP[3] (OR SIMPLY SAMSUNG, STYLIZED AS SΛMSUNG) (KOREAN: 삼성 [SAMSɅŊ]) IS A SOUTH KOREAN MULTINATIONAL MANUFACTURING CONGLOMERATE HEADQUARTERED IN SAMSUNG TOWN, SEOUL, SOUTH KOREA.[1] IT COMPRISES NUMEROUS AFFILIATED BUSINESSES,[1] MOST OF THEM UNITED UNDER THE SAMSUNG BRAND, AND IS THE LARGEST SOUTH KOREAN CHAEBOL (BUSINESS CONGLOMERATE). AS OF 2020, SAMSUNG HAS THE 8TH HIGHEST GLOBAL BRAND VALUE.[4]\\n\\nSAMSUNG WAS FOUNDED BY LEE BYUNG-CHUL IN 1938 AS A TRADING COMPANY. OVER THE NEXT THREE DECADES, THE GROUP DIVERSIFIED INTO AREAS INCLUDING FOOD PROCESSING, TEXTILES, INSURANCE, SECURITIES, AND RETAIL. SAMSUNG ENTERED THE ELECTRONICS INDUSTRY IN THE LATE 1960S AND THE CONSTRUCTION AND SHIPBUILDING INDUSTRIES IN THE MID-1970S; THESE AREAS WOULD DRIVE ITS SUBSEQUENT GROWTH. FOLLOWING LEE'S DEATH IN 1987, SAMSUNG WAS SEPARATED INTO FIVE BUSINESS GROUPS – SAMSUNG GROUP, SHINSEGAE GROUP, CJ GROUP AND HANSOL GROUP, AND JOONGANG GROUP.\\n\\nNOTABLE SAMSUNG INDUSTRIAL AFFILIATES INCLUDE SAMSUNG ELECTRONICS (THE WORLD'S LARGEST INFORMATION TECHNOLOGY COMPANY, CONSUMER ELECTRONICS MAKER AND CHIPMAKER MEASURED BY 2017 REVENUES),[5][6] SAMSUNG HEAVY INDUSTRIES (THE WORLD'S 2ND LARGEST SHIPBUILDER MEASURED BY 2010 REVENUES),[7] AND SAMSUNG ENGINEERING AND SAMSUNG C&T CORPORATION (RESPECTIVELY THE WORLD'S 13TH AND 36TH LARGEST CONSTRUCTION COMPANIES).[8] OTHER NOTABLE SUBSIDIARIES INCLUDE SAMSUNG LIFE INSURANCE (THE WORLD'S 14TH LARGEST LIFE INSURANCE COMPANY),[9] SAMSUNG EVERLAND (OPERATOR OF EVERLAND RESORT, THE OLDEST THEME PARK IN SOUTH KOREA)[10] AND CHEIL WORLDWIDE (THE WORLD'S 15TH LARGEST ADVERTISING AGENCY, AS MEASURED BY 2012 REVENUES).[11][12]\",\n",
       " \"the samsung group[3] (or simply samsung, stylized as sλmsung) (korean: 삼성 [samsʌŋ]) is a south korean multinational manufacturing conglomerate headquartered in samsung town, seoul, south korea.[1] it comprises numerous affiliated businesses,[1] most of them united under the samsung brand, and is the largest south korean chaebol (business conglomerate). as of 2020, samsung has the 8th highest global brand value.[4]\\n\\nsamsung was founded by lee byung-chul in 1938 as a trading company. over the next three decades, the group diversified into areas including food processing, textiles, insurance, securities, and retail. samsung entered the electronics industry in the late 1960s and the construction and shipbuilding industries in the mid-1970s; these areas would drive its subsequent growth. following lee's death in 1987, samsung was separated into five business groups – samsung group, shinsegae group, cj group and hansol group, and joongang group.\\n\\nnotable samsung industrial affiliates include samsung electronics (the world's largest information technology company, consumer electronics maker and chipmaker measured by 2017 revenues),[5][6] samsung heavy industries (the world's 2nd largest shipbuilder measured by 2010 revenues),[7] and samsung engineering and samsung c&t corporation (respectively the world's 13th and 36th largest construction companies).[8] other notable subsidiaries include samsung life insurance (the world's 14th largest life insurance company),[9] samsung everland (operator of everland resort, the oldest theme park in south korea)[10] and cheil worldwide (the world's 15th largest advertising agency, as measured by 2012 revenues).[11][12]\")"
      ]
     },
     "execution_count": 6,
     "metadata": {},
     "output_type": "execute_result"
    }
   ],
   "source": [
    "sw = \"\"\"The Samsung Group[3] (or simply Samsung, stylized as SΛMSUNG) (Korean: 삼성 [samsʌŋ]) is a South Korean multinational manufacturing conglomerate headquartered in Samsung Town, Seoul, South Korea.[1] It comprises numerous affiliated businesses,[1] most of them united under the Samsung brand, and is the largest South Korean chaebol (business conglomerate). As of 2020, Samsung has the 8th highest global brand value.[4]\n",
    "\n",
    "Samsung was founded by Lee Byung-chul in 1938 as a trading company. Over the next three decades, the group diversified into areas including food processing, textiles, insurance, securities, and retail. Samsung entered the electronics industry in the late 1960s and the construction and shipbuilding industries in the mid-1970s; these areas would drive its subsequent growth. Following Lee's death in 1987, Samsung was separated into five business groups – Samsung Group, Shinsegae Group, CJ Group and Hansol Group, and Joongang Group.\n",
    "\n",
    "Notable Samsung industrial affiliates include Samsung Electronics (the world's largest information technology company, consumer electronics maker and chipmaker measured by 2017 revenues),[5][6] Samsung Heavy Industries (the world's 2nd largest shipbuilder measured by 2010 revenues),[7] and Samsung Engineering and Samsung C&T Corporation (respectively the world's 13th and 36th largest construction companies).[8] Other notable subsidiaries include Samsung Life Insurance (the world's 14th largest life insurance company),[9] Samsung Everland (operator of Everland Resort, the oldest theme park in South Korea)[10] and Cheil Worldwide (the world's 15th largest advertising agency, as measured by 2012 revenues).[11][12]\"\"\"\n",
    "\n",
    "a= sw.split(' ') # This will split the entire string based on the seperator passed like in this case ' ' (Blank Space)\n",
    "b= sw.upper() # This will convert the entire string into capital case\n",
    "c= sw.lower() # This will convert the entire string into lower case\n",
    "a,b,c"
   ]
  },
  {
   "cell_type": "code",
   "execution_count": 8,
   "id": "942a4060",
   "metadata": {},
   "outputs": [
    {
     "data": {
      "text/plain": [
       "('Harshit Singhal', 'Harshit singhal', 'HARSHIT SINGHAL')"
      ]
     },
     "execution_count": 8,
     "metadata": {},
     "output_type": "execute_result"
    }
   ],
   "source": [
    "s4 = \"harshit singhal\"\n",
    "a= s4.title()\n",
    "b= s4.capitalize() \n",
    "c= s4.swapcase()\n",
    "# So the major difference between title and captalize is that title makes every word first letter Capital where as capitalize will only convert the first letter of an entire string as capital\n",
    "a,b,c "
   ]
  },
  {
   "cell_type": "code",
   "execution_count": 15,
   "id": "02ad1c47",
   "metadata": {},
   "outputs": [
    {
     "data": {
      "text/plain": [
       "('Harshit  Singhal',\n",
       " 'Harshit  Singhal  ',\n",
       " '  Harshit  Singhal',\n",
       " '    H a r s h i t     S i n g h a l    ')"
      ]
     },
     "execution_count": 15,
     "metadata": {},
     "output_type": "execute_result"
    }
   ],
   "source": [
    "s5= \"  Harshit  Singhal  \"\n",
    "a= s5.strip() # It will remove the trailing and starting white space\n",
    "b= s5.lstrip() # It will reomve the space from Left hand side\n",
    "c= s5.rstrip() # It will remove the space from right hand side\n",
    "d= \" \".join(s5) # It will join every character with sapce. PS you can also pass the string instead of parameter\n",
    "a,b,c,d"
   ]
  },
  {
   "cell_type": "code",
   "execution_count": 39,
   "id": "45c7e91b",
   "metadata": {},
   "outputs": [
    {
     "data": {
      "text/plain": [
       "('####Harshit\\t123#####',\n",
       " False,\n",
       " False,\n",
       " False,\n",
       " False,\n",
       " False,\n",
       " False,\n",
       " False,\n",
       " False,\n",
       " True,\n",
       " True,\n",
       " False,\n",
       " True,\n",
       " 'Harshit 123')"
      ]
     },
     "execution_count": 39,
     "metadata": {},
     "output_type": "execute_result"
    },
    {
     "ename": "",
     "evalue": "",
     "output_type": "error",
     "traceback": [
      "\u001b[1;31mThe Kernel crashed while executing code in the current cell or a previous cell. \n",
      "\u001b[1;31mPlease review the code in the cell(s) to identify a possible cause of the failure. \n",
      "\u001b[1;31mClick <a href='https://aka.ms/vscodeJupyterKernelCrash'>here</a> for more info. \n",
      "\u001b[1;31mView Jupyter <a href='command:jupyter.viewOutput'>log</a> for further details."
     ]
    }
   ],
   "source": [
    "s6= \"Harshit\\t123\"\n",
    "a= s6.center(20 , '#') # This will add center the string with 20 #'s 10 from right and 10 from left making the content in Center\n",
    "b= s6.isupper() # By default it will return Boolean value like True or False. in this case it will return False as my complete string is not in upper case\n",
    "c= s6.islower() # By default it will return Boolean value like True or False. in this case it will return False as my complete string is not in lower case\n",
    "d= s6.isspace() # By default it will return Boolean value like True or False. in this case it will return False as my string is not a space. Space as in s6= \" \" A blank space\n",
    "e= s6.isdigit() # By default it will return Boolean value like True or False. in this case it will return False as my complete string is not a digit. If my string would have been s6= '123' then it would have returned Ture\n",
    "f= s6.isalnum() # By default it will return Boolean value like True or False. in this case it will return True as my string is combination of Alpna and numerical.\n",
    "g= s6.isalpha() # By default it will return Boolean value like True or False. in this case it will return False as my string is not completely alpha\n",
    "h= s6.startswith('i') # By default it will return Boolean value like True or False. in this case it will return False as my string doesnot starts with 'i'\n",
    "i= s6.startswith('h') # By default it will return Boolean value like True or False. in this case it will return False as my string doesnot starts with 'h'\n",
    "j= s6.startswith('H') # By default it will return Boolean value like True or False. in this case it will return Tur as my string starts with 'H'. PYTHON IS CASE SENSITIVE SO h and H are different\n",
    "k= s6.endswith('3') # By default it will return Boolean value like True or False. in this case it will return Tur as my string ends with '3'\n",
    "l= s6.isnumeric() # By default it will return Boolean value like True or False. in this case it will return False as my string is not completely string and for numeric it has to be completey numberic and with one character into the string. You can't take an empty string like \"\" or \" \"\n",
    "m= s6.isascii() # By default it will return Boolean value like True or False. In this case my character is a ASCII so it will always return True\n",
    "n= s6.expandtabs() # It will expand all the part wherever it find a '\\t'\n",
    "\n",
    "\n",
    "a,b,c,d,e,f,g,h,i,j,k,l,m,n"
   ]
  }
 ],
 "metadata": {
  "kernelspec": {
   "display_name": "Python 3",
   "language": "python",
   "name": "python3"
  },
  "language_info": {
   "codemirror_mode": {
    "name": "ipython",
    "version": 3
   },
   "file_extension": ".py",
   "mimetype": "text/x-python",
   "name": "python",
   "nbconvert_exporter": "python",
   "pygments_lexer": "ipython3",
   "version": "3.12.2"
  }
 },
 "nbformat": 4,
 "nbformat_minor": 5
}
