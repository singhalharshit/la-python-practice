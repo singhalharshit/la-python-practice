{
 "cells": [
  {
   "cell_type": "code",
   "execution_count": 11,
   "metadata": {},
   "outputs": [
    {
     "name": "stdout",
     "output_type": "stream",
     "text": [
      "Connection Successfull\n",
      "[('information_schema',), ('mysql',), ('performance_schema',), ('sakila',), ('sys',), ('world',)]\n"
     ]
    }
   ],
   "source": [
    "import mysql.connector as conn\n",
    "# Connecting my mysql with python\n",
    "try:\n",
    "    my_db= conn.connect(host=\"localhost\", user=\"root\",password= \"H@rshit\", port=3306) # Connection URL\n",
    "    print(\"Connection Successfull\")\n",
    "except Exception as e:\n",
    "    print(\"Broke due to: \",e)\n",
    "\n",
    "cursor = my_db.cursor()\n",
    "cursor.execute(\"show databases\") # execute will execute any query but will not give any output and if you will print it, it will give None \n",
    "print(cursor.fetchall()) # To see the output of your query you need to use fetchall or fetchone - to select to first row of the output \n",
    "\n",
    "\n",
    "# So what we are doing here is that we are just using python to execute the queries in the same we would do in sql so we can do more which we will be exploring in the below code"
   ]
  },
  {
   "cell_type": "code",
   "execution_count": 12,
   "metadata": {},
   "outputs": [
    {
     "name": "stdout",
     "output_type": "stream",
     "text": [
      "[('dummy_database',), ('information_schema',), ('mysql',), ('performance_schema',), ('sakila',), ('sys',), ('world',)]\n"
     ]
    }
   ],
   "source": [
    "# Continuing from the above code and creating a new database\n",
    "\n",
    "cursor.execute('create database dummy_database')\n",
    "cursor.execute('show databases')\n",
    "print(cursor.fetchall())\n",
    "\n",
    "# If you'll check into mysql you can see that a new database called dummy_database has been created\n"
   ]
  },
  {
   "cell_type": "code",
   "execution_count": 13,
   "metadata": {},
   "outputs": [
    {
     "name": "stdout",
     "output_type": "stream",
     "text": [
      "[]\n"
     ]
    }
   ],
   "source": [
    "# Now creating a new table inside any database\n",
    "\n",
    "cursor.execute(\"create table dummy_database.students_details(id INT(10), student_name varchar(30), student_number INT(10))\") # So the format to create a table is database_name.table_name(<column_name> <data type> <constraints if required like auto increment or Primary key>)\n",
    "cursor.execute(\"select * from dummy_database.students_details\")\n",
    "print(cursor.fetchall())"
   ]
  },
  {
   "cell_type": "code",
   "execution_count": 15,
   "metadata": {},
   "outputs": [
    {
     "name": "stdout",
     "output_type": "stream",
     "text": [
      "[]\n"
     ]
    }
   ],
   "source": [
    "insert_values = \"insert into dummy_database.students_details values (1,'ABC',987654321)\"\n",
    "cursor.execute(insert_values)\n",
    "my_db.commit() # If you will not commit it it will not be saved into the database you can see it into the code like in the output but value will not be shown into the db\n",
    "print(cursor.fetchall())"
   ]
  },
  {
   "cell_type": "code",
   "execution_count": null,
   "metadata": {},
   "outputs": [],
   "source": [
    "insert_values = \"insert into dummy_database.students_details values (2,'DEF',987654321)\"\n",
    "cursor.execute(insert_values)\n",
    "my_db.commit() "
   ]
  },
  {
   "cell_type": "code",
   "execution_count": 18,
   "metadata": {},
   "outputs": [
    {
     "name": "stdout",
     "output_type": "stream",
     "text": [
      "[(1, 'ABC', 987654321), (2, 'DEF', 987654321)]\n"
     ]
    }
   ],
   "source": [
    "cursor.execute(\"select * from dummy_database.students_details\")\n",
    "print(cursor.fetchall())"
   ]
  },
  {
   "cell_type": "code",
   "execution_count": 20,
   "metadata": {},
   "outputs": [
    {
     "name": "stdout",
     "output_type": "stream",
     "text": [
      "(1, 'ABC', 987654321)\n",
      "(2, 'DEF', 987654321)\n"
     ]
    }
   ],
   "source": [
    "# you see in the above code it is coming in one line so you can iterate over it to handle it\n",
    "cursor.execute(\"select * from dummy_database.students_details\")\n",
    "for i in cursor.fetchall():\n",
    "    print(i)"
   ]
  },
  {
   "cell_type": "code",
   "execution_count": 21,
   "metadata": {},
   "outputs": [
    {
     "name": "stdout",
     "output_type": "stream",
     "text": [
      "(1,)\n",
      "(2,)\n"
     ]
    }
   ],
   "source": [
    "# Now some more playing with the queries like selecting one column or something like that\n",
    "cursor.execute(\"select id from dummy_database.students_details\") # It similar to the sql queries so what ever you can do in sql you can do it in python\n",
    "for i in cursor.fetchall():\n",
    "    print(i)"
   ]
  },
  {
   "cell_type": "code",
   "execution_count": null,
   "metadata": {},
   "outputs": [],
   "source": []
  }
 ],
 "metadata": {
  "kernelspec": {
   "display_name": "Python 3",
   "language": "python",
   "name": "python3"
  },
  "language_info": {
   "codemirror_mode": {
    "name": "ipython",
    "version": 3
   },
   "file_extension": ".py",
   "mimetype": "text/x-python",
   "name": "python",
   "nbconvert_exporter": "python",
   "pygments_lexer": "ipython3",
   "version": "3.12.2"
  }
 },
 "nbformat": 4,
 "nbformat_minor": 2
}
