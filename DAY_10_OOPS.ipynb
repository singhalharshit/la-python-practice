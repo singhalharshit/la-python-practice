{
 "cells": [
  {
   "cell_type": "markdown",
   "metadata": {},
   "source": [
    "# Class \n",
    "* Classification/Segmentation or Blueprint of a real time entity\n",
    "# Objects\n",
    "* The real time entity\n",
    "------------------------------------\n",
    "# Understanding the keywords used during OOPS \n",
    "* constructor (__init__) - It is something via which we can pass data/information/value to classes. Without init also the class can be formed but if we want to pass any value we need a constructor. It is not mandatory to create construnctor everytime when you create a class \n",
    "* init - it is used to pass data to the classes\n",
    "* self - At very first self is not a keyword. It is a pointer which points anything to the class so when we declear the class the first paramter is taken as pointer which in python is a convention to take self. So now in the case of below example of Person Class "
   ]
  },
  {
   "cell_type": "code",
   "execution_count": 7,
   "metadata": {},
   "outputs": [
    {
     "name": "stdout",
     "output_type": "stream",
     "text": [
      "Harshit\n",
      "Singhal\n",
      "abc@gmail.com\n",
      "2000\n",
      "<class '__main__.Person'>\n",
      "24\n"
     ]
    }
   ],
   "source": [
    "class Person:\n",
    "    def __init__(self,name,surname,email_id, yob):   # __init__ is nothing but initialization of any variable to the classes, and SELF is a pointer which will direct anything to the class\n",
    "        self.name = name\n",
    "        self.surname = surname\n",
    "        self.email_id = email_id\n",
    "        self.year_of_birth = yob\n",
    "\n",
    "\n",
    "    def age_calc(self,crrntyr):\n",
    "        return crrntyr- self.year_of_birth\n",
    "\n",
    "    \n",
    "s= Person('Harshit', 'Singhal', 'abc@gmail.com', 2000) # Here we have created an Object\n",
    "print(s.name)\n",
    "print(s.surname)\n",
    "print(s.email_id)\n",
    "print(s.year_of_birth)\n",
    "print(type(s))\n",
    "print(s.age_calc(2024))"
   ]
  },
  {
   "cell_type": "markdown",
   "metadata": {},
   "source": [
    "# So from the above code let's few things \n",
    "\n",
    "* self.name = name in this self.name and name are not the same thing. Here the name which is defined in the class is being stored in a variable 'name' which is being pointed to the class with the help of self. So I can make the variable as self.name1 = name and then can print the object in the same way say print(s.name1). \n",
    "* Since the name is a __init__ variable and self.name is just a variable which is storing the value of name which is being pointed to class\n",
    "* So the code flow will be s= Person('Harshit', 'Singhal', 'abc@gmail.com', 2000), Here 'Harshit' will be assigned to name with the help of self.name1.\n",
    "* for more check the below code"
   ]
  },
  {
   "cell_type": "code",
   "execution_count": null,
   "metadata": {},
   "outputs": [
    {
     "name": "stdout",
     "output_type": "stream",
     "text": [
      "Harshit\n",
      "101\n"
     ]
    }
   ],
   "source": [
    "class Student:\n",
    "    def __init__(abc, name, sId):\n",
    "        abc.student_name = name\n",
    "        abc.student_id = sId\n",
    "\n",
    "\n",
    "student_object = Student('Harshit',101)\n",
    "print(student_object.student_name)\n",
    "print(student_object.student_id)\n",
    "\n",
    "# You see this time I have not used the conventional approach of using the self as a pointer instead I have used abc just to explain that the first parameter in a constructor is a pointer and instead of using name I have used student_name which again is to tell that the name declared in constructor (__init__) is not the same used with a pointer(self)"
   ]
  },
  {
   "cell_type": "code",
   "execution_count": null,
   "metadata": {},
   "outputs": [
    {
     "ename": "NameError",
     "evalue": "name 'any_name' is not defined",
     "output_type": "error",
     "traceback": [
      "\u001b[1;31m---------------------------------------------------------------------------\u001b[0m",
      "\u001b[1;31mNameError\u001b[0m                                 Traceback (most recent call last)",
      "Cell \u001b[1;32mIn[11], line 7\u001b[0m\n\u001b[0;32m      3\u001b[0m         abc\u001b[38;5;241m.\u001b[39mstudent_name \u001b[38;5;241m=\u001b[39m any_name\n\u001b[0;32m      4\u001b[0m         abc\u001b[38;5;241m.\u001b[39mstudent_id \u001b[38;5;241m=\u001b[39m any_sId\n\u001b[1;32m----> 7\u001b[0m student_object \u001b[38;5;241m=\u001b[39m \u001b[43mStudent\u001b[49m\u001b[43m(\u001b[49m\u001b[38;5;124;43m'\u001b[39;49m\u001b[38;5;124;43mHarshit\u001b[39;49m\u001b[38;5;124;43m'\u001b[39;49m\u001b[43m,\u001b[49m\u001b[38;5;241;43m101\u001b[39;49m\u001b[43m)\u001b[49m\n\u001b[0;32m      8\u001b[0m \u001b[38;5;28mprint\u001b[39m(student_object\u001b[38;5;241m.\u001b[39mstudent_name)\n\u001b[0;32m      9\u001b[0m \u001b[38;5;28mprint\u001b[39m(student_object\u001b[38;5;241m.\u001b[39mstudent_id)\n",
      "Cell \u001b[1;32mIn[11], line 3\u001b[0m, in \u001b[0;36mStudent.__init__\u001b[1;34m(abc, name, sId)\u001b[0m\n\u001b[0;32m      2\u001b[0m \u001b[38;5;28;01mdef\u001b[39;00m \u001b[38;5;21m__init__\u001b[39m(abc, name, sId):\n\u001b[1;32m----> 3\u001b[0m     abc\u001b[38;5;241m.\u001b[39mstudent_name \u001b[38;5;241m=\u001b[39m \u001b[43many_name\u001b[49m\n\u001b[0;32m      4\u001b[0m     abc\u001b[38;5;241m.\u001b[39mstudent_id \u001b[38;5;241m=\u001b[39m any_sId\n",
      "\u001b[1;31mNameError\u001b[0m: name 'any_name' is not defined"
     ]
    }
   ],
   "source": [
    "class Student:\n",
    "    def __init__(abc, name, sId):\n",
    "        abc.student_name = any_name\n",
    "        abc.student_id = any_sId\n",
    "\n",
    "\n",
    "student_object = Student('Harshit',101)\n",
    "print(student_object.student_name)\n",
    "print(student_object.student_id)\n",
    "\n",
    "# You see this code will give an error as the it was unable to figure out name and sID. So now you get it what I meant above.\n"
   ]
  },
  {
   "cell_type": "code",
   "execution_count": null,
   "metadata": {},
   "outputs": [
    {
     "name": "stdout",
     "output_type": "stream",
     "text": [
      "New Detail\n"
     ]
    },
    {
     "data": {
      "text/plain": [
       "'NewDetail'"
      ]
     },
     "execution_count": 23,
     "metadata": {},
     "output_type": "execute_result"
    }
   ],
   "source": [
    "# Now here is a task to concatenate name and surname from a class. So lets do that\n",
    "\n",
    "class Person:\n",
    "    def __init__(self,name,surname,email_id, yob):\n",
    "        self.name = name\n",
    "        self.surname = surname\n",
    "        self.email_id = email_id\n",
    "        self.year_of_birth = yob\n",
    "    \n",
    "    def concat_name_surname(self, name_variable, surname_variable):\n",
    "        return self.name + self.surname\n",
    "    \n",
    "person_object = Person('New','Detail','NewDetail@abc.com',2000)\n",
    "print(person_object.name+' '+person_object.surname) # One way to do it \n",
    "\n",
    "person_object.concat_name_surname(\"Harshit\",\"Singhal\") # Doing the same using function but remember to use the variable/object to call the function of a class\n",
    "\n",
    "#  This can be understood as when we declare an empty list and want to append something l=[] l.append(1). So we use the variable/object of the class instead of class name so over here also to call the concat_name_surname function we need to use the variable i.e. person_object.concat_name_surname and since the object is already created it will take the name by default"
   ]
  },
  {
   "cell_type": "code",
   "execution_count": null,
   "metadata": {},
   "outputs": [],
   "source": [
    "# Using multiple __init__\n",
    "\n",
    "class Test():\n",
    "    def __init__(self, val1, val2, val3, val4):\n",
    "        self.value1= val1\n",
    "        self.value2 = val2\n",
    "        self.value3 = val3\n",
    "        self.value4 = val4\n",
    "    \n",
    "    def __init__(self,new_val1, new_val2):\n",
    "        self.new_value1 = new_val1\n",
    "        self.new_value2 = new_val2\n",
    "\n",
    "\n",
    "\n",
    "# testObject_val = Test(1,2,3,4)\n",
    "\n",
    "\n",
    "# You will notice that code broke saying it takes 3 arguments(for second init including self) but 5 (for first init including self) were given. That means if you are going to use new init in a class it will be overwritten and new init or the latest init in this case second init will be the one used by class that's why it was looking for 3 arguments (technically 2, see the below example) and since while creating the object I passed more values and it failed\n",
    "\n",
    "# I have commented the upper part where I have declared the object. you can uncomment it and check the same\n",
    "testObject_newVal = Test(1,2)\n",
    "\n",
    "# This worked as it was made by new init "
   ]
  },
  {
   "cell_type": "code",
   "execution_count": null,
   "metadata": {},
   "outputs": [
    {
     "name": "stdout",
     "output_type": "stream",
     "text": [
      "Your Email id is:-  a_person@my_email_id.com\n",
      "None\n",
      "24\n",
      "Harshit\n",
      "29\n"
     ]
    }
   ],
   "source": [
    "# Now creating a class without a constructor (__init__). As we know declaring constructor (__init__) is not mandatory every time. Here we are seeing that only\n",
    "\n",
    "class Person1():\n",
    "\n",
    "    def age(self, current_year, year_of_birth):\n",
    "        return current_year-year_of_birth\n",
    "    \n",
    "    def email_id_input(self, email_id):\n",
    "        print(\"Your Email id is:- \", email_id)\n",
    "    \n",
    "    def ask_name(self, name=None):\n",
    "        if name is None:\n",
    "            name= input(\"Please tell your name \")\n",
    "        return name\n",
    "    \n",
    "    def ask_dob(self,dob=None):\n",
    "        if dob is None:\n",
    "            dob= int(input(\"Please tell your date of birth\"))\n",
    "        return dob\n",
    "\n",
    "# Now you see I have not used a constructor (__init__) which means I don't want a user input at the time of variable/object creation but still we can create an object. \n",
    "\n",
    "a_person = Person1()\n",
    "b_person = Person1()\n",
    "c_person = Person1()\n",
    "d_person = Person1()\n",
    "\n",
    "# Like we do normally for ex:- a= \"Harshit\" or when we do typecasting where we use the a= str(int(22)) in this case we have done the exact same thing which I did in the above I declared a variable of class Person or created an object of class Variable. And like we perform tasks with other of the classes say list or string, we can perform the same operation over here also with the functions of class Person1.\n",
    "\n",
    "# Let's see how can we do that\n",
    "\n",
    "\n",
    "print(a_person.email_id_input(\"a_person@my_email_id.com\"))\n",
    "print(b_person.age(2024,2000))\n",
    "print(c_person.ask_name(\"Harshit\"))\n",
    "print(d_person.ask_dob(29))                        "
   ]
  },
  {
   "cell_type": "code",
   "execution_count": null,
   "metadata": {},
   "outputs": [
    {
     "name": "stdout",
     "output_type": "stream",
     "text": [
      "<__main__.Person object at 0x00000228BC10DA90>\n",
      "Harshit\n",
      "Singhal\n"
     ]
    }
   ],
   "source": [
    "class Person:\n",
    "    def __init__(self,name, surname,yob):\n",
    "        self._name=name # Now in this case we have created a protected variable by using (_) which makes a public variable to protected variable. It is done in order to restrict user from changing \n",
    "        self.__surname=surname # Now in this case we have made a variable private\n",
    "        self.year_of_birth= yob\n",
    "\n",
    "\n",
    "ojb1= Person('Harshit','Singhal','2000')\n",
    "print(ojb1)\n",
    "\n",
    "print(ojb1._name) \n",
    "print(ojb1._Person__surname) # In order to call a class variable we need to call it this way always _className__classVariable"
   ]
  },
  {
   "cell_type": "markdown",
   "metadata": {},
   "source": [
    "# Diving Deep into OOPs with it's main concepts\n",
    "* Abstraction, Polymorphism, Inheritence, Encapsulation\n",
    "* Public, Private(__), Protected(_) concepts for variables or function"
   ]
  },
  {
   "cell_type": "code",
   "execution_count": null,
   "metadata": {},
   "outputs": [
    {
     "name": "stdout",
     "output_type": "stream",
     "text": [
      "Shubham\n",
      "Kumar\n"
     ]
    }
   ],
   "source": [
    "# A basic overview\n",
    "\n",
    "class Employee():\n",
    "    def __init__(self,name,surname,yob):\n",
    "        self.name = name\n",
    "        self.surname = surname\n",
    "        self.yob = yob\n",
    "\n",
    "\n",
    "Employee_Object = Employee(\"Shubham\",\"Kumar\",1999)\n",
    "print(Employee_Object.name)\n",
    "print(Employee_Object.surname)\n",
    "\n",
    "\n",
    "# All of this data is public and public as in can accessed any where with in the class or in the inherited one. In python unlike other programming languages we don't have such a concept of private, public, and protected variables or functions but we can use them this way"
   ]
  },
  {
   "cell_type": "code",
   "execution_count": null,
   "metadata": {},
   "outputs": [
    {
     "name": "stdout",
     "output_type": "stream",
     "text": [
      "2000\n",
      "Sid\n",
      "24\n",
      "25\n",
      "------------------------------------------------------\n",
      "#######################################################\n",
      "------------------------------------------------------\n",
      "2001\n",
      "Ravi\n",
      "__surname of class Employee1 -> Kumar\n",
      "__surname of class Employee2 -> Kiran\n",
      "23\n",
      "24\n"
     ]
    }
   ],
   "source": [
    "# Public Private and Protected Concepts\n",
    "\n",
    "class Employee1():\n",
    "    _name = 'Sid' #Protected Variable\n",
    "    __surname = 'Kumar' #Private Variable\n",
    "    yob = 2000\n",
    "\n",
    "    def _age (self, current_year):\n",
    "        return current_year - self.yob\n",
    "    \n",
    "    def __age (self, current_year):\n",
    "        return current_year - self.yob\n",
    "\n",
    "\n",
    "emp1_obj = Employee1()\n",
    "print(emp1_obj.yob)\n",
    "print(emp1_obj._name)\n",
    "print(emp1_obj._age(2024))\n",
    "print(emp1_obj._Employee1__age(2025))\n",
    "\n",
    "print('------------------------------------------------------')\n",
    "print('#######################################################')\n",
    "print('------------------------------------------------------')\n",
    "\n",
    "class Employee2(Employee1): # Here we did an Inheritance in which I inherited Employee1 into a new class Employee2\n",
    "    _name = 'Ravi'\n",
    "    __surname = 'Kiran'\n",
    "    yob = 2001\n",
    "\n",
    "\n",
    "emp2_obj = Employee2()\n",
    "\n",
    "print(emp2_obj.yob)\n",
    "print(emp2_obj._name)\n",
    "print('__surname of class Employee1 ->', emp2_obj._Employee1__surname)\n",
    "# print(emp2_obj._Employee2__surname) #You see this code will give you an error because __surname is protected variable and is stored in the memory by the key value pair for which it's key is Employee1 and hence it will give you an error. So even when you inherit a class all of it's properties are inherited but for the protected variables or function you need to use class name, that's why they are protected and their scope is defined accordingly.\n",
    "# To print the __surname of Employee2 we can use the below example\n",
    "print('__surname of class Employee2 ->', emp2_obj._Employee2__surname)\n",
    "print(emp2_obj._age(2024))\n",
    "print(emp2_obj._Employee1__age(2025))\n",
    "\n",
    "# Now as we can see that if we use object of class Employee1 in Employee2 we get values which were there in the class Employee1 even when it is called in the class Employee2. So object matters a lot even when we call it in another class even when the variable _name is same in both, instead of getting overwritten it simply distinguishes between which class _name is being called because of the use of it's object"
   ]
  },
  {
   "cell_type": "markdown",
   "metadata": {},
   "source": [
    "# Let's discuss about the 4 pillar of OOPs - Inheritence, Abstraction, Polymorphism, Encapsulation\n",
    "\n",
    "* Why OOPs- It helps us in reusing the code again and again \n",
    "* Inheritance -> "
   ]
  },
  {
   "cell_type": "code",
   "execution_count": 65,
   "metadata": {},
   "outputs": [
    {
     "name": "stdout",
     "output_type": "stream",
     "text": [
      "<__main__.tata object at 0x0000022C03607680>\n"
     ]
    }
   ],
   "source": [
    "# Inheritance Examples\n",
    "\n",
    "class Car():\n",
    "    def __init__(self,body,engine,tyre):\n",
    "        self.body = body\n",
    "        self.engine = engine\n",
    "        self.tyre = tyre\n",
    "    \n",
    "    def milage(self):\n",
    "        print(\"Mileage of this car\")\n",
    "\n",
    "class tata(Car):\n",
    "    pass\n",
    "\n",
    "\n",
    "\n",
    "car_var = Car(\"Solid\",\"V6\",\"Radial\")\n",
    "tata_var = tata(\"Solid1\",\"V61\",\"Radial1\")\n",
    "\n",
    "print(tata_var)\n"
   ]
  },
  {
   "cell_type": "code",
   "execution_count": null,
   "metadata": {},
   "outputs": [
    {
     "name": "stdout",
     "output_type": "stream",
     "text": [
      "Account Open Status\n",
      "None\n",
      "<bound method HDFC_Bank.hdfc_to_icici of <__main__.ICICI_bank object at 0x0000022C03254B60>>\n",
      "<bound method bank.deposit of <__main__.ICICI_bank object at 0x0000022C03254B60>>\n",
      "<bound method bank.transaction of <__main__.ICICI_bank object at 0x0000022C03254B60>>\n"
     ]
    }
   ],
   "source": [
    "# Different type of Inheritance - Multilevel Inheritance - As you can we in the below code we have done multilevel inheritance, since the class bank is being inherited to HDFC_Bank and then the same HDFC_Bank which already has the property of class bank is again being inherited to the class ICICI_bank. Since it is working as in level by level by level it is multilevel Inheritance.\n",
    "\n",
    "class bank:\n",
    "    def transaction(self):\n",
    "        print('Total Transaction Value')\n",
    "    \n",
    "    def account_opening(self):\n",
    "        print(\"Account Open Status\")\n",
    "    \n",
    "    def deposit(self):\n",
    "        print('Deposited Account')\n",
    "\n",
    "class HDFC_Bank(bank):\n",
    "    def hdfc_to_icici(self):\n",
    "        print(\"This will show all the transactions from hdfc to icici\")\n",
    "    \n",
    "class ICICI_bank(HDFC_Bank):\n",
    "    pass\n",
    "\n",
    "\n",
    "icici = ICICI_bank()\n",
    "print(icici.account_opening())\n",
    "print(icici.hdfc_to_icici)\n",
    "print(icici.deposit)\n",
    "print(icici.transaction)\n"
   ]
  },
  {
   "cell_type": "code",
   "execution_count": null,
   "metadata": {},
   "outputs": [],
   "source": [
    "# Multiple Inheritance - In this case take a scenario that I want some properties from a different class and some properties from another class, Multiple Inheritance works best. For Example there are two class which are complete different and are inheriting multiple classes in it or no class in them but you a class in which properties of these two classes should be there and hence Multiple Inheritance works best in this case. Like you can see below example that both the classes are independent but since we needed the properties of both we have imported both the classes. So overall Multiple Inheritance can be clubbed with Multilevel Inheritance or can be used as a solo part \n",
    "\n",
    "class bank:\n",
    "    def transaction(self):\n",
    "        print('Total Transaction Value')\n",
    "    \n",
    "    def account_opening(self):\n",
    "        print(\"Account Open Status\")\n",
    "    \n",
    "    def deposit(self):\n",
    "        print('Deposited Account')\n",
    "\n",
    "class HDFC_Bank: # As we can see this time no inheritance has been done in the HDFC_Bank class and both the classes are independent\n",
    "    def hdfc_to_icici(self):\n",
    "        print(\"This will show all the transactions from hdfc to icici\")\n",
    "\n",
    "class icici_bank(bank,HDFC_Bank):\n",
    "    pass\n",
    "\n",
    "\n",
    "icici_object = icici_bank()\n",
    "\n",
    "print(icici_bank.account_opening())\n",
    "print(icici_bank.deposit())\n",
    "print(icici_bank.hdfc_to_icici())\n",
    "print(icici_bank.transaction())\n"
   ]
  },
  {
   "cell_type": "code",
   "execution_count": null,
   "metadata": {},
   "outputs": [
    {
     "name": "stdout",
     "output_type": "stream",
     "text": [
      "This is a test method from my HDFC Bank class\n"
     ]
    }
   ],
   "source": [
    "# Try to get this thing in the case of multilevel inheritance if we somehow have same function name in two classes like in this case you can see we have test function in the bank class also and in the HDFC_Bank class also and now since we have inherited both the classes in the icici_bank class and if we will call the test function we don't know which function will get picked. So this is decided by the class being inherited first like in the below code if we inherit the class bank first the test function from the bank will be inherited and if we inherit the HDFC_Bank class first the test function from the HDFC_Bank class is called. You can check by uncommenting the below code and understand this statement   \n",
    "\n",
    "class bank:\n",
    "    def transaction(self):\n",
    "        print('Total Transaction Value')\n",
    "    \n",
    "    def account_opening(self):\n",
    "        print(\"Account Open Status\")\n",
    "    \n",
    "    def deposit(self):\n",
    "        print('Deposited Account')\n",
    "    \n",
    "    def test(self):\n",
    "        print(\"This is a test method from class Bank\")\n",
    "\n",
    "class HDFC_Bank:\n",
    "    def hdfc_to_icici(self):\n",
    "        print(\"This will show all the transactions from hdfc to icici\")\n",
    "    \n",
    "    def test(self):\n",
    "        print(\"This is a test method from my HDFC Bank class\")\n",
    "\n",
    "# class icici_bank(bank,HDFC_Bank):\n",
    "#     pass\n",
    "\n",
    "class icici_bank(HDFC_Bank,bank):\n",
    "    pass\n",
    "\n",
    "icici_object = icici_bank()\n",
    "icici_bank.test('self')"
   ]
  },
  {
   "cell_type": "code",
   "execution_count": null,
   "metadata": {},
   "outputs": [
    {
     "name": "stdout",
     "output_type": "stream",
     "text": [
      "Function of class school_vision\n"
     ]
    }
   ],
   "source": [
    "# Method Overriding -> In this case we override the method from the parent class into the child class, like in this case when the function student was defined in the class School but after inheriting it into the school_vision class, we redefined the function and overwritten it.\n",
    "\n",
    "class School:\n",
    "    def student(self):\n",
    "        print(\"Details of all the student\")\n",
    "    \n",
    "    def achievers(self):\n",
    "        print(\"List all the achievers\")\n",
    "    \n",
    "    def halloffame(self):\n",
    "        print(\"Hall of Fame student\")\n",
    "\n",
    "\n",
    "class school_vision(School):\n",
    "    def student(self):\n",
    "        print(\"Function of class school_vision\")\n",
    "\n",
    "sv = school_vision()\n",
    "sv.student()\n"
   ]
  },
  {
   "cell_type": "code",
   "execution_count": 84,
   "metadata": {},
   "outputs": [
    {
     "name": "stdout",
     "output_type": "stream",
     "text": [
      "Stream of student PMC\n"
     ]
    }
   ],
   "source": [
    "class newSchool:\n",
    "    __student=\"PMC\"\n",
    "\n",
    "    def student(self):\n",
    "        print(\"Stream of student\", newSchool.__student)\n",
    "\n",
    "obj = newSchool()\n",
    "\n",
    "obj.student()\n"
   ]
  },
  {
   "cell_type": "code",
   "execution_count": null,
   "metadata": {},
   "outputs": [],
   "source": []
  }
 ],
 "metadata": {
  "kernelspec": {
   "display_name": "Python 3",
   "language": "python",
   "name": "python3"
  },
  "language_info": {
   "codemirror_mode": {
    "name": "ipython",
    "version": 3
   },
   "file_extension": ".py",
   "mimetype": "text/x-python",
   "name": "python",
   "nbconvert_exporter": "python",
   "pygments_lexer": "ipython3",
   "version": "3.12.2"
  }
 },
 "nbformat": 4,
 "nbformat_minor": 2
}
