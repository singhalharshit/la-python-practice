{
 "cells": [
  {
   "cell_type": "markdown",
   "metadata": {},
   "source": [
    "# Class \n",
    "* Classification/Segmentation or Blueprint of a real time entity\n",
    "# Objects\n",
    "* The real time entity\n",
    "------------------------------------\n",
    "# Understanding the keywords used during OOPS \n",
    "* constructor (__init__) - It is something via which we can pass data/information/value to classes. Without init also the class can be formed but if we want to pass any value we need a constructor. It is not mandatory to create construnctor everytime when you create a class \n",
    "* init - it is used to pass data to the classes\n",
    "* self - At very first self is not a keyword. It is a pointer which points anything to the class so when we declear the class the first paramter is taken as pointer which in python is a convention to take self. So now in the case of below example of Person Class "
   ]
  },
  {
   "cell_type": "code",
   "execution_count": 7,
   "metadata": {},
   "outputs": [
    {
     "name": "stdout",
     "output_type": "stream",
     "text": [
      "Harshit\n",
      "Singhal\n",
      "abc@gmail.com\n",
      "2000\n",
      "<class '__main__.Person'>\n",
      "24\n"
     ]
    }
   ],
   "source": [
    "class Person:\n",
    "    def __init__(self,name,surname,email_id, yob):   # __init__ is nothing but initialization of any variable to the classes, and SELF is a pointer which will direct anything to the class\n",
    "        self.name = name\n",
    "        self.surname = surname\n",
    "        self.email_id = email_id\n",
    "        self.year_of_birth = yob\n",
    "\n",
    "\n",
    "    def age_calc(self,crrntyr):\n",
    "        return crrntyr- self.year_of_birth\n",
    "\n",
    "    \n",
    "s= Person('Harshit', 'Singhal', 'abc@gmail.com', 2000) # Here we have created an Object\n",
    "print(s.name)\n",
    "print(s.surname)\n",
    "print(s.email_id)\n",
    "print(s.year_of_birth)\n",
    "print(type(s))\n",
    "print(s.age_calc(2024))"
   ]
  },
  {
   "cell_type": "markdown",
   "metadata": {},
   "source": [
    "# So from the above code let's few things \n",
    "\n",
    "* self.name = name in this self.name and name are not the same thing. Here the name which is defined in the class is being stored in a variable 'name' which is being pointed to the class with the help of self. So I can make the variable as self.name1 = name and then can print the object in the same way say print(s.name1). \n",
    "* Since the name is a __init__ variable and self.name is just a variable which is storing the value of name which is being pointed to class\n",
    "* So the code flow will be s= Person('Harshit', 'Singhal', 'abc@gmail.com', 2000), Here 'Harshit' will be assigned to name with the help of self.name1.\n",
    "* for more check the below code"
   ]
  },
  {
   "cell_type": "code",
   "execution_count": null,
   "metadata": {},
   "outputs": [
    {
     "name": "stdout",
     "output_type": "stream",
     "text": [
      "Harshit\n",
      "101\n"
     ]
    }
   ],
   "source": [
    "class Student:\n",
    "    def __init__(abc, name, sId):\n",
    "        abc.student_name = name\n",
    "        abc.student_id = sId\n",
    "\n",
    "\n",
    "student_object = Student('Harshit',101)\n",
    "print(student_object.student_name)\n",
    "print(student_object.student_id)\n",
    "\n",
    "# You see this time I have not used the conventional approach of using the self as a pointer instead I have used abc just to explain that the first parameter in a constructor is a pointer and instead of using name I have used student_name which again is to tell that the name declared in consturctor (__init__) is not the same used with a pointer(self)"
   ]
  },
  {
   "cell_type": "code",
   "execution_count": null,
   "metadata": {},
   "outputs": [
    {
     "ename": "NameError",
     "evalue": "name 'any_name' is not defined",
     "output_type": "error",
     "traceback": [
      "\u001b[1;31m---------------------------------------------------------------------------\u001b[0m",
      "\u001b[1;31mNameError\u001b[0m                                 Traceback (most recent call last)",
      "Cell \u001b[1;32mIn[11], line 7\u001b[0m\n\u001b[0;32m      3\u001b[0m         abc\u001b[38;5;241m.\u001b[39mstudent_name \u001b[38;5;241m=\u001b[39m any_name\n\u001b[0;32m      4\u001b[0m         abc\u001b[38;5;241m.\u001b[39mstudent_id \u001b[38;5;241m=\u001b[39m any_sId\n\u001b[1;32m----> 7\u001b[0m student_object \u001b[38;5;241m=\u001b[39m \u001b[43mStudent\u001b[49m\u001b[43m(\u001b[49m\u001b[38;5;124;43m'\u001b[39;49m\u001b[38;5;124;43mHarshit\u001b[39;49m\u001b[38;5;124;43m'\u001b[39;49m\u001b[43m,\u001b[49m\u001b[38;5;241;43m101\u001b[39;49m\u001b[43m)\u001b[49m\n\u001b[0;32m      8\u001b[0m \u001b[38;5;28mprint\u001b[39m(student_object\u001b[38;5;241m.\u001b[39mstudent_name)\n\u001b[0;32m      9\u001b[0m \u001b[38;5;28mprint\u001b[39m(student_object\u001b[38;5;241m.\u001b[39mstudent_id)\n",
      "Cell \u001b[1;32mIn[11], line 3\u001b[0m, in \u001b[0;36mStudent.__init__\u001b[1;34m(abc, name, sId)\u001b[0m\n\u001b[0;32m      2\u001b[0m \u001b[38;5;28;01mdef\u001b[39;00m \u001b[38;5;21m__init__\u001b[39m(abc, name, sId):\n\u001b[1;32m----> 3\u001b[0m     abc\u001b[38;5;241m.\u001b[39mstudent_name \u001b[38;5;241m=\u001b[39m \u001b[43many_name\u001b[49m\n\u001b[0;32m      4\u001b[0m     abc\u001b[38;5;241m.\u001b[39mstudent_id \u001b[38;5;241m=\u001b[39m any_sId\n",
      "\u001b[1;31mNameError\u001b[0m: name 'any_name' is not defined"
     ]
    }
   ],
   "source": [
    "class Student:\n",
    "    def __init__(abc, name, sId):\n",
    "        abc.student_name = any_name\n",
    "        abc.student_id = any_sId\n",
    "\n",
    "\n",
    "student_object = Student('Harshit',101)\n",
    "print(student_object.student_name)\n",
    "print(student_object.student_id)\n",
    "\n",
    "# You see this code will give an error as the it was unable to figure out name and sID. So now you get it what I meant above.\n"
   ]
  },
  {
   "cell_type": "code",
   "execution_count": null,
   "metadata": {},
   "outputs": [
    {
     "name": "stdout",
     "output_type": "stream",
     "text": [
      "New Detail\n"
     ]
    },
    {
     "data": {
      "text/plain": [
       "'NewDetail'"
      ]
     },
     "execution_count": 23,
     "metadata": {},
     "output_type": "execute_result"
    }
   ],
   "source": [
    "# Now here is a task to concatenate name and surname from a class. So lets do that\n",
    "\n",
    "class Person:\n",
    "    def __init__(self,name,surname,email_id, yob):\n",
    "        self.name = name\n",
    "        self.surname = surname\n",
    "        self.email_id = email_id\n",
    "        self.year_of_birth = yob\n",
    "    \n",
    "    def concat_name_surname(self, name_variable, surname_variable):\n",
    "        return self.name + self.surname\n",
    "    \n",
    "person_object = Person('New','Detail','NewDetail@abc.com',2000)\n",
    "print(person_object.name+' '+person_object.surname) # One way to do it \n",
    "\n",
    "person_object.concat_name_surname(\"Harshit\",\"Singhal\") # Doing the same using function but remember to use the variable/object to call the function of a class\n",
    "\n",
    "#  This can be understood as when we declear an empty list and want to append something l=[] l.append(1). So we use the variable/object of the class instead of class name so over here also to call the concat_name_surname function we need to use the variable i.e. person_object.concat_name_surname and since the object is already creted it will take the name by default"
   ]
  },
  {
   "cell_type": "code",
   "execution_count": null,
   "metadata": {},
   "outputs": [],
   "source": [
    "# Using multiple __init__\n",
    "\n",
    "class Test():\n",
    "    def __init__(self, val1, val2, val3, val4):\n",
    "        self.value1= val1\n",
    "        self.value2 = val2\n",
    "        self.value3 = val3\n",
    "        self.value4 = val4\n",
    "    \n",
    "    def __init__(self,new_val1, new_val2):\n",
    "        self.new_value1 = new_val1\n",
    "        self.new_value2 = new_val2\n",
    "\n",
    "\n",
    "\n",
    "# testObject_val = Test(1,2,3,4)\n",
    "\n",
    "\n",
    "# You will notice that code broke saying it takes 3 arguments(for second init including self) but 5 (for first init including self) were given. That means if you are going to use new init in a class it will be overritten and new init or the latest init in this case second init will be the one used by class that's why it was looking for 3 argumets (technically 2, see the below example) and since while creating the object I passed more values and it failed\n",
    "\n",
    "# I have commented the upper part where I have declared the object. you can uncomment it and check the same\n",
    "testObject_newVal = Test(1,2)\n",
    "\n",
    "# This worked as it was made by new init "
   ]
  },
  {
   "cell_type": "code",
   "execution_count": 46,
   "metadata": {},
   "outputs": [
    {
     "name": "stdout",
     "output_type": "stream",
     "text": [
      "Your Email id is:-  a_person@my_email_id.com\n",
      "None\n",
      "24\n",
      "Harshit\n",
      "29\n"
     ]
    }
   ],
   "source": [
    "# Now creating a class without a constructor (__init__). As we know declaring constructor (__init__) is not mandatory everytime. Here we are seeing that only\n",
    "\n",
    "class Person1():\n",
    "\n",
    "    def age(self, current_year, year_of_birth):\n",
    "        return current_year-year_of_birth\n",
    "    \n",
    "    def email_id_input(self, email_id):\n",
    "        print(\"Your Email id is:- \", email_id)\n",
    "    \n",
    "    def ask_name(self, name=None):\n",
    "        if name is None:\n",
    "            name= input(\"Please tell your name \")\n",
    "        return name\n",
    "    \n",
    "    def ask_dob(self,dob=None):\n",
    "        if dob is None:\n",
    "            dob= int(input(\"Please tell your date of birth\"))\n",
    "        return dob\n",
    "\n",
    "# Now you see I have not used a constructor (__init__) which means I don't want a user input at the time of varibale/object creation but still we can create an object. \n",
    "\n",
    "a_person = Person1()\n",
    "b_person = Person1()\n",
    "c_person = Person1()\n",
    "d_person = Person1()\n",
    "\n",
    "# Like we do normally for ex:- a= \"Harshit\" or when we do typecasting where we use the a= str(int(22)) in this case we have done the exact same thing which I did in the above I declared a variable of class Person or created an object of class Variable. And like we perform tasks with other of the clases say list or string, we can perform the same operation over here also with the functions of class Person1.\n",
    "\n",
    "# Let's see how can we do that\n",
    "\n",
    "\n",
    "print(a_person.email_id_input(\"a_person@my_email_id.com\"))\n",
    "print(b_person.age(2024,2000))\n",
    "print(c_person.ask_name(\"Harshit\"))\n",
    "print(d_person.ask_dob(29))"
   ]
  },
  {
   "cell_type": "code",
   "execution_count": 3,
   "metadata": {},
   "outputs": [
    {
     "name": "stdout",
     "output_type": "stream",
     "text": [
      "<__main__.Person object at 0x00000228BC10DA90>\n",
      "Harshit\n",
      "Singhal\n"
     ]
    }
   ],
   "source": [
    "class Person:\n",
    "    def __init__(self,name, surname,yob):\n",
    "        self._name=name # Now in this case we have created a protected variable by using (_) which makes a public variable to protected variable. It is done inorder to restrict user from changing \n",
    "        self.__surname=surname # Now in this case we have made a variable private\n",
    "        self.year_of_birth= yob\n",
    "\n",
    "\n",
    "ojb1= Person('Harshit','Singhal','2000')\n",
    "print(ojb1)\n",
    "\n",
    "print(ojb1._name) \n",
    "print(ojb1._Person__surname) # Inorder to call a class variable we need to call it this way always _className__classVariable"
   ]
  },
  {
   "cell_type": "code",
   "execution_count": null,
   "metadata": {},
   "outputs": [
    {
     "name": "stdout",
     "output_type": "stream",
     "text": [
      "2000\n",
      "Sid\n",
      "24\n",
      "25\n",
      "------------------------------------------------------\n",
      "######################################################\n",
      "------------------------------------------------------\n",
      "2001\n",
      "Sudh\n",
      "23\n",
      "24\n"
     ]
    }
   ],
   "source": [
    "# Public Private and Protected Concepts\n",
    "\n",
    "class Person():\n",
    "    _name = 'Sid'\n",
    "    __surname = 'Kumar'\n",
    "    yob = 2000\n",
    "\n",
    "    def _age (self, current_year):\n",
    "        return current_year - self.yob\n",
    "    \n",
    "    def __age (self, current_year):\n",
    "        return current_year - self.yob\n",
    "\n",
    "\n",
    "person_obj = Person()\n",
    "print(person_obj.yob)\n",
    "print(person_obj._name)\n",
    "print(person_obj._age(2024))\n",
    "print(person_obj._Person__age(2025))\n",
    "\n",
    "print('------------------------------------------------------')\n",
    "print('#######################################################')\n",
    "print('------------------------------------------------------')\n",
    "\n",
    "class Employee(Person):\n",
    "    _name = 'Sudh'\n",
    "    __surnmame = 'Krish'\n",
    "    yob = 2001\n",
    "\n",
    "\n",
    "emp_obj = Employee()\n",
    "\n",
    "print(emp_obj.yob)\n",
    "print(emp_obj._name)\n",
    "print(emp_obj._age(2024))\n",
    "print(emp_obj._Person__age(2025))\n"
   ]
  },
  {
   "cell_type": "code",
   "execution_count": null,
   "metadata": {},
   "outputs": [],
   "source": []
  }
 ],
 "metadata": {
  "kernelspec": {
   "display_name": "Python 3",
   "language": "python",
   "name": "python3"
  },
  "language_info": {
   "codemirror_mode": {
    "name": "ipython",
    "version": 3
   },
   "file_extension": ".py",
   "mimetype": "text/x-python",
   "name": "python",
   "nbconvert_exporter": "python",
   "pygments_lexer": "ipython3",
   "version": "3.12.2"
  }
 },
 "nbformat": 4,
 "nbformat_minor": 2
}
