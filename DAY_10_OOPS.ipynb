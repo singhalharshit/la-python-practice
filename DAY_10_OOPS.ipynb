{
 "cells": [
  {
   "cell_type": "markdown",
   "metadata": {},
   "source": [
    "# Class \n",
    "* Classification/Segmentation or Blueprint of a real time entity\n",
    "# Objects\n",
    "* The real time entity"
   ]
  },
  {
   "cell_type": "code",
   "execution_count": 2,
   "metadata": {},
   "outputs": [
    {
     "name": "stdout",
     "output_type": "stream",
     "text": [
      "Harshit\n",
      "Singhal\n",
      "abc@gmail.com\n",
      "2000\n",
      "24\n"
     ]
    }
   ],
   "source": [
    "class Person:\n",
    "    def __init__(self,name,surname,email_id, yob):   # __init__ is nothing but initialization of any variable to the classes, and SELF is a pointer which will direct anything to the class\n",
    "        self.name = name\n",
    "        self.surname = surname\n",
    "        self.email_id = email_id\n",
    "        self.year_of_birth = yob\n",
    "\n",
    "\n",
    "    def age_calc(self,crrntyr):\n",
    "        return crrntyr- self.year_of_birth\n",
    "\n",
    "    \n",
    "s= Person('Harshit', 'Singhal', 'abc@gmail.com', 2000)\n",
    "print(s.name)\n",
    "print(s.surname)\n",
    "print(s.email_id)\n",
    "print(s.year_of_birth)\n",
    "print(s.age_calc(2024))\n"
   ]
  },
  {
   "cell_type": "code",
   "execution_count": 3,
   "metadata": {},
   "outputs": [
    {
     "name": "stdout",
     "output_type": "stream",
     "text": [
      "<__main__.Person object at 0x00000228BC10DA90>\n",
      "Harshit\n",
      "Singhal\n"
     ]
    }
   ],
   "source": [
    "class Person:\n",
    "    def __init__(self,name, surname,yob):\n",
    "        self._name=name # Now in this case we have created a protected variable by using (_) which makes a public variable to protected variable. It is done inorder to restrict user from changing \n",
    "        self.__surname=surname # Now in this case we have made a variable private\n",
    "        self.year_of_birth= yob\n",
    "\n",
    "\n",
    "ojb1= Person('Harshit','Singhal','2000')\n",
    "print(ojb1)\n",
    "\n",
    "print(ojb1._name) \n",
    "print(ojb1._Person__surname) # Inorder to call a class variable we need to call it this way always _className__classVariable"
   ]
  },
  {
   "cell_type": "code",
   "execution_count": null,
   "metadata": {},
   "outputs": [
    {
     "name": "stdout",
     "output_type": "stream",
     "text": [
      "2000\n",
      "Sid\n",
      "24\n",
      "25\n",
      "------------------------------------------------------\n",
      "######################################################\n",
      "------------------------------------------------------\n",
      "2001\n",
      "Sudh\n",
      "23\n",
      "24\n"
     ]
    }
   ],
   "source": [
    "# Public Private and Protected Concepts\n",
    "\n",
    "class Person():\n",
    "    _name = 'Sid'\n",
    "    __surname = 'Kumar'\n",
    "    yob = 2000\n",
    "\n",
    "    def _age (self, current_year):\n",
    "        return current_year - self.yob\n",
    "    \n",
    "    def __age (self, current_year):\n",
    "        return current_year - self.yob\n",
    "\n",
    "\n",
    "person_obj = Person()\n",
    "print(person_obj.yob)\n",
    "print(person_obj._name)\n",
    "print(person_obj._age(2024))\n",
    "print(person_obj._Person__age(2025))\n",
    "\n",
    "print('------------------------------------------------------')\n",
    "print('#######################################################')\n",
    "print('------------------------------------------------------')\n",
    "\n",
    "class Employee(Person):\n",
    "    _name = 'Sudh'\n",
    "    __surnmame = 'Krish'\n",
    "    yob = 2001\n",
    "\n",
    "\n",
    "emp_obj = Employee()\n",
    "\n",
    "print(emp_obj.yob)\n",
    "print(emp_obj._name)\n",
    "print(emp_obj._age(2024))\n",
    "print(emp_obj._Person__age(2025))\n"
   ]
  },
  {
   "cell_type": "code",
   "execution_count": null,
   "metadata": {},
   "outputs": [],
   "source": []
  }
 ],
 "metadata": {
  "kernelspec": {
   "display_name": "Python 3",
   "language": "python",
   "name": "python3"
  },
  "language_info": {
   "codemirror_mode": {
    "name": "ipython",
    "version": 3
   },
   "file_extension": ".py",
   "mimetype": "text/x-python",
   "name": "python",
   "nbconvert_exporter": "python",
   "pygments_lexer": "ipython3",
   "version": "3.12.2"
  }
 },
 "nbformat": 4,
 "nbformat_minor": 2
}
