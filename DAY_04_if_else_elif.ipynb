{
 "cells": [
  {
   "cell_type": "markdown",
   "metadata": {},
   "source": [
    "# Conditional Statements\n",
    "* if \n",
    "* else\n",
    "* elif"
   ]
  },
  {
   "cell_type": "code",
   "execution_count": 5,
   "metadata": {},
   "outputs": [
    {
     "name": "stdout",
     "output_type": "stream",
     "text": [
      "a=10\n"
     ]
    }
   ],
   "source": [
    "# Single = is assignment operator and == is comparision operator which is used to compare.\n",
    "a= 10\n",
    "if a == 10: # if the condition matches it will go inside the if block resulting in the output of if block if the condition doesnot matches it will simply exit as it doesnot know what to do next.\n",
    "    print('a=10')"
   ]
  },
  {
   "cell_type": "code",
   "execution_count": 6,
   "metadata": {},
   "outputs": [
    {
     "name": "stdout",
     "output_type": "stream",
     "text": [
      "a is greater than 5 and smaller than 10 6\n"
     ]
    }
   ],
   "source": [
    "# To handle the above scenerio where if the logic doesnot meet the if block condition we have other conditional statements like else and elif\n",
    "# We can use multiple 'if' to handle this logic but this is not generally preferred\n",
    "\n",
    "a = 6\n",
    "\n",
    "if a>=10: # In this case the value of a is < 10 so it will skip the if block going down to check where the condition can be satisfied\n",
    "    print('a is greater than 10',a)\n",
    "elif a<=5: # now in this case the value of a is > 5 so it will go more below to check if the condition is being satisfied somewhere else\n",
    "    print('a is smaller than 5',a )\n",
    "else: # now we can see that in the else condition the condition seems to be satisfied according to our logic\n",
    "    print('a is greater than 5 and smaller than 10',a )\n",
    "\n",
    "# If the condition is not matched anywhere it would have simply skipped all the logic and would have gone outside of every block returning nothing "
   ]
  },
  {
   "cell_type": "code",
   "execution_count": 10,
   "metadata": {},
   "outputs": [
    {
     "name": "stdout",
     "output_type": "stream",
     "text": [
      "a is less than 10\n"
     ]
    }
   ],
   "source": [
    "# If one doesn't wants to use elif block we can use simple if else block\n",
    "\n",
    "a= 6\n",
    "\n",
    "if a >= 10:\n",
    "    print('a is greater than 10',a)\n",
    "else:\n",
    "    print('a is less than 10')"
   ]
  },
  {
   "cell_type": "code",
   "execution_count": 8,
   "metadata": {},
   "outputs": [],
   "source": [
    "# Using pass keyword - if for a condition you dont want to anything just wanna say that okay if a>5 just pass it so we can do it by below method\n",
    "\n",
    "a= 10\n",
    "if a >5:\n",
    "    pass\n",
    "\n",
    "# It will do nothing but simply just passing it"
   ]
  },
  {
   "cell_type": "code",
   "execution_count": 1,
   "metadata": {},
   "outputs": [
    {
     "name": "stdout",
     "output_type": "stream",
     "text": [
      "60 is not present\n"
     ]
    }
   ],
   "source": [
    "l= [1,2,3,4,5,6]\n",
    "\n",
    "if 60 in l:\n",
    "    print('60 is present')\n",
    "else:\n",
    "    print('60 is not present')"
   ]
  },
  {
   "cell_type": "code",
   "execution_count": 2,
   "metadata": {},
   "outputs": [
    {
     "name": "stdout",
     "output_type": "stream",
     "text": [
      "60 is not present\n",
      "This is a new statement and the value is 2\n"
     ]
    }
   ],
   "source": [
    "l= [1,2,3,4,5,6]\n",
    "\n",
    "if 60 in l:\n",
    "    print('60 is present')\n",
    "else:\n",
    "    print('60 is not present')\n",
    "if 2 in l:\n",
    "    print('This is a new statement and the value is 2')\n",
    "\n",
    "# Now in this case we can see that both else and the new if statement is printed, this is becuase whenever we include a if keyword it is considered as a new block and hence the last if is not the part of the above block (if, else) and is considered a new block itself"
   ]
  },
  {
   "cell_type": "code",
   "execution_count": 10,
   "metadata": {},
   "outputs": [
    {
     "name": "stdout",
     "output_type": "stream",
     "text": [
      "less than 100\n",
      "less than 50\n"
     ]
    }
   ],
   "source": [
    "# Nested if and else\n",
    "\n",
    "a= int(input('Enter a value: ')) # a= 45\n",
    "if a<100:\n",
    "    print('less than 100')\n",
    "    if a<50:\n",
    "        print('less than 50')\n",
    "    else:\n",
    "        print('value is greater than 50')\n",
    "else:\n",
    "    print('Value is greater than 100')\n",
    "\n",
    "#  Flow of code: So when we entered the value of a which is 45 it is going to check the first condition which says yes if a<100 print something so hence it is satisfied it will print this, next it will come inside the if block and it will find another statement saying to check if the value is less than 50 and hence that is also statisfied it will print that statement and now it will check for other blocks which somehow are not satisfied and since they are not satisfied it will simply exit the code printing out the satisfied condition"
   ]
  },
  {
   "cell_type": "code",
   "execution_count": 26,
   "metadata": {},
   "outputs": [
    {
     "name": "stdout",
     "output_type": "stream",
     "text": [
      "No GRE\n",
      "You failed everthing\n"
     ]
    }
   ],
   "source": [
    "marks = 299\n",
    "\n",
    "if marks < 600:\n",
    "    print('No GRE')\n",
    "    if marks >= 500:\n",
    "        print('Apply for TOFEL')\n",
    "    elif marks > 400:\n",
    "            print('Try something else')\n",
    "    elif marks<300:\n",
    "            print('You failed everthing')\n",
    "    else:\n",
    "        print('TOFEL Selected')\n",
    "else:\n",
    "    print('Congratulation selected for GRE')"
   ]
  },
  {
   "cell_type": "markdown",
   "metadata": {},
   "source": [
    "# and, or, not, not in conditions in if and else\n",
    "# For or\n",
    "\n",
    "* T F = T\n",
    "* T T = T\n",
    "* F T = T\n",
    "* F F = F\n",
    "\n",
    "# For and\n",
    "\n",
    "* T F = F\n",
    "* T T = T\n",
    "* F T = F\n",
    "* F F = \n",
    "\n",
    "* Here T stands for True and F stands for False "
   ]
  },
  {
   "cell_type": "code",
   "execution_count": 32,
   "metadata": {},
   "outputs": [
    {
     "name": "stdout",
     "output_type": "stream",
     "text": [
      "condition satisfied\n",
      "I do not know what to say\n",
      "I do not know what to say\n",
      "Conditon satisfied\n"
     ]
    }
   ],
   "source": [
    "a= 10\n",
    "if a<5 or a==10:\n",
    "    print('condition satisfied')\n",
    "else:\n",
    "    print('I do not know what to say') \n",
    "\n",
    "b= 11\n",
    "if a== 10 and b<11:\n",
    "    print('Conditon satisfied')\n",
    "else:\n",
    "    print('I do not know what to say') \n",
    "\n",
    "#  Mixed and and or\n",
    "\n",
    "c= 12\n",
    "d=13\n",
    "\n",
    "if a==9 and b==11 and c== 12 and d==13:\n",
    "    print('Conditon satisfied')\n",
    "else:\n",
    "    print('I do not know what to say') \n",
    "\n",
    "if a==9 or b==11 and c== 12 and d==13: # Here if you will notice we have just made a change for a and b putting or in between which has made True false logic satisfied\n",
    "    print('Conditon satisfied')\n",
    "else:\n",
    "    print('I do not know what to say') "
   ]
  },
  {
   "cell_type": "code",
   "execution_count": 35,
   "metadata": {},
   "outputs": [
    {
     "name": "stdout",
     "output_type": "stream",
     "text": [
      "all the values are satisfied:  dict_values(['value 1', 'value2', 'value3'])\n"
     ]
    }
   ],
   "source": [
    "d= {'key1': 'value 1', 'key2': 'value2', 'key3': 'value3'}\n",
    "\n",
    "if d['key1'] == 'value 1' and d['key2'] == 'value2' and d['key3'] == 'value3':\n",
    "    print('all the values are satisfied: ', d.values())\n",
    "else:\n",
    "    print('All the values are not correct')"
   ]
  },
  {
   "cell_type": "code",
   "execution_count": null,
   "metadata": {},
   "outputs": [],
   "source": []
  }
 ],
 "metadata": {
  "kernelspec": {
   "display_name": "Python 3",
   "language": "python",
   "name": "python3"
  },
  "language_info": {
   "codemirror_mode": {
    "name": "ipython",
    "version": 3
   },
   "file_extension": ".py",
   "mimetype": "text/x-python",
   "name": "python",
   "nbconvert_exporter": "python",
   "pygments_lexer": "ipython3",
   "version": "3.12.2"
  }
 },
 "nbformat": 4,
 "nbformat_minor": 2
}
