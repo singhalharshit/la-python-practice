{
 "cells": [
  {
   "cell_type": "markdown",
   "metadata": {},
   "source": [
    "# *List* - Mutable Entity"
   ]
  },
  {
   "cell_type": "code",
   "execution_count": 11,
   "metadata": {},
   "outputs": [
    {
     "data": {
      "text/plain": [
       "(1,\n",
       " True,\n",
       " 7,\n",
       " [1, 2, 3, 4, 'Harshit'],\n",
       " [True, 45.67, 'Harshit', 4, 3, 2, 1],\n",
       " [1, 3, 'Harshit', True],\n",
       " [True, 45.67, 'Harshit', 4, 3, 2],\n",
       " [1, 2, 3],\n",
       " [1, 2, 3, 4, 'Harshit', 45.67, True, 'New Item'],\n",
       " [1, 2, 3, 4, 'Harshit', 45.67, True, 1, 2, 3, 4, 'Harshit', 45.67, True],\n",
       " False)"
      ]
     },
     "execution_count": 11,
     "metadata": {},
     "output_type": "execute_result"
    }
   ],
   "source": [
    "# Lists\n",
    "\n",
    "l= [1,2,3,4,\"Harshit\", 45.67, True]\n",
    "\n",
    "a= l[0] # Same like strings we can also fetch elemnts of a list via indexes either positive or negative (below example)\n",
    "b= l[-1]\n",
    "c= len(l) # Checking the length of a list\n",
    "d= l[0:5] # Index slicing like string\n",
    "e= l[::-1] # Reversing a list\n",
    "f= l[0::2] # It will extract the dataset from 0 to end with a jump/step of 2\n",
    "g= l[8:0:-1] # It will fetch the results from backwards\n",
    "h= l[:3]\n",
    "i= l+[\"New Item\"] # Incase to add an intem to a list we need to keep the datatype same otherwise it will throw an error\n",
    "j= l * 2 # It will multiply the list\n",
    "k= 40 in l # This is to check if an element is in the list or not?\n",
    "\n",
    "a,b,c,d,e,f,g,h,i,j,k"
   ]
  },
  {
   "cell_type": "code",
   "execution_count": 80,
   "metadata": {},
   "outputs": [
    {
     "data": {
      "text/plain": [
       "([1, 2, 4, 5, 6, 7],\n",
       " ['harshit', 'singhal', 'lion', 'flower'],\n",
       " 7,\n",
       " 'singhal',\n",
       " 1,\n",
       " 'flower')"
      ]
     },
     "execution_count": 80,
     "metadata": {},
     "output_type": "execute_result"
    }
   ],
   "source": [
    "l1 = [1,2,3,4,5,6,7]\n",
    "l2 = [\"harshit\", \"singhal\", \"lion\", \"flower\"]\n",
    "\n",
    "l2.append(\"football\") # It will append the item in the last\n",
    "l1.append([8,9,10])\n",
    "l2.pop() # It will pop/remove/delete the data bydefault from last and if the index is passed then it will remove the element from that index only\n",
    "l1.pop()\n",
    "l1.pop(2) # In this index is passed and we can see in the below result that yes my 3 is gone which was on the 2nd index\n",
    "\n",
    "a= l1\n",
    "b=l2\n",
    "c= max(l1) # This is to find the max of any list so in numeric it will give the biggest number and in the case of string it will the result according to the alphabetical order and vice versa for min\n",
    "d= max(l2)\n",
    "e= min(l1)\n",
    "f= min(l2)\n",
    "\n",
    "a,b,c,d,e,f"
   ]
  },
  {
   "cell_type": "code",
   "execution_count": 41,
   "metadata": {},
   "outputs": [
    {
     "data": {
      "text/plain": [
       "[9, 8, 7, 6, 5, 4, 3, 2, 1]"
      ]
     },
     "execution_count": 41,
     "metadata": {},
     "output_type": "execute_result"
    }
   ],
   "source": [
    "l3= [1,2,3,4,5,6,7,8,9]\n",
    "l3.reverse() # The list is reversed\n",
    "l3"
   ]
  },
  {
   "cell_type": "code",
   "execution_count": 42,
   "metadata": {},
   "outputs": [
    {
     "data": {
      "text/plain": [
       "[0, 1, 5, 7, 8, 9, 10, 23, 100, 233]"
      ]
     },
     "execution_count": 42,
     "metadata": {},
     "output_type": "execute_result"
    }
   ],
   "source": [
    "l4 = [8,9,10,23,0,1,233,100,5,7]\n",
    "l4.sort() # It will by sort the list in ascending order which is smaller to bigger if we want to it into descnding order which is greater to smaller see the below cell example. MAKE SURE THE IEMS IN THE LIST IS IDENTICAL OR NO DUPLICATE VALUES ELSE IT WILL FAIL\n",
    "l4"
   ]
  },
  {
   "cell_type": "code",
   "execution_count": 43,
   "metadata": {},
   "outputs": [
    {
     "data": {
      "text/plain": [
       "[233, 100, 23, 10, 9, 8, 7, 5, 1, 0]"
      ]
     },
     "execution_count": 43,
     "metadata": {},
     "output_type": "execute_result"
    }
   ],
   "source": [
    "l5 = [8,9,10,23,0,1,233,100,5,7]\n",
    "l5.sort(reverse=True)\n",
    "l5"
   ]
  },
  {
   "cell_type": "code",
   "execution_count": 84,
   "metadata": {},
   "outputs": [
    {
     "data": {
      "text/plain": [
       "[[1, 2, 3], [3, 9, 6], [7, 0, 4]]"
      ]
     },
     "execution_count": 84,
     "metadata": {},
     "output_type": "execute_result"
    }
   ],
   "source": [
    "l6= [1,2,3]\n",
    "l7= [3,9,6]\n",
    "l8= [7,0,4]\n",
    "l9= [l6,l7,l8]\n",
    "l9"
   ]
  },
  {
   "cell_type": "code",
   "execution_count": 86,
   "metadata": {},
   "outputs": [
    {
     "data": {
      "text/plain": [
       "0"
      ]
     },
     "execution_count": 86,
     "metadata": {},
     "output_type": "execute_result"
    }
   ],
   "source": [
    "# If from l9 I want to extract 0 how can I do that\n",
    "l9[2][1:2] #or one more way\n",
    "l9[2][1]"
   ]
  },
  {
   "cell_type": "code",
   "execution_count": 90,
   "metadata": {},
   "outputs": [
    {
     "data": {
      "text/plain": [
       "[1, 2, 3, 4, 5, 6, 7, ['abc', 56, 34, 'def']]"
      ]
     },
     "execution_count": 90,
     "metadata": {},
     "output_type": "execute_result"
    }
   ],
   "source": [
    "l10= [1,2,3,4,5,6,7]\n",
    "l10.append([\"abc\",56,34,\"def\"])\n",
    "l10"
   ]
  },
  {
   "cell_type": "code",
   "execution_count": 92,
   "metadata": {},
   "outputs": [
    {
     "data": {
      "text/plain": [
       "[1, 2, 3, 4, 5, 6, 7, 'abc', 56, 34, 'def']"
      ]
     },
     "execution_count": 92,
     "metadata": {},
     "output_type": "execute_result"
    }
   ],
   "source": [
    "l11= [1,2,3,4,5,6,7,1,2,3,1,2,1]\n",
    "l11.extend([\"abc\",56,34,\"def\"])\n",
    "l11\n",
    "# So the major difference between the append and extend is append will add the element in last like if a list is passed it will append a whole list where as in extend it will extend the same list and will give you a complete list without having list inside list where as in append if you append a list you will get a list inside a list for ex:- append => [1,2,3,[4,5,6]], extend => [1,2,3,4,5,6] or as you can see the difference between \"l10\" and \"l11\". Also extend needs to be an iterable object which means you can't pass a single interger like l11.extend(45) it will give an error but you can pass a string because it is an iterable object. For more see the below example."
   ]
  },
  {
   "cell_type": "code",
   "execution_count": 94,
   "metadata": {},
   "outputs": [
    {
     "data": {
      "text/plain": [
       "[1,\n",
       " 2,\n",
       " 3,\n",
       " 4,\n",
       " 5,\n",
       " 6,\n",
       " 7,\n",
       " 'abc',\n",
       " 56,\n",
       " 34,\n",
       " 'def',\n",
       " 'H',\n",
       " 'a',\n",
       " 'r',\n",
       " 's',\n",
       " 'h',\n",
       " 'i',\n",
       " 't',\n",
       " 'H',\n",
       " 'a',\n",
       " 'r',\n",
       " 's',\n",
       " 'h',\n",
       " 'i',\n",
       " 't']"
      ]
     },
     "execution_count": 94,
     "metadata": {},
     "output_type": "execute_result"
    }
   ],
   "source": [
    "l11.extend(\"Harshit\") # See the name has been extended in the list\n",
    "l11"
   ]
  },
  {
   "cell_type": "code",
   "execution_count": 97,
   "metadata": {},
   "outputs": [
    {
     "data": {
      "text/plain": [
       "0"
      ]
     },
     "execution_count": 97,
     "metadata": {},
     "output_type": "execute_result"
    }
   ],
   "source": [
    "l11.index(1) # This will tell the index of an item in the list and if the element has repetitions it will show the first occurence. Like in the list l11 we can see we have multiple 1 but it will give me index of the first 1"
   ]
  },
  {
   "cell_type": "code",
   "execution_count": 8,
   "metadata": {},
   "outputs": [
    {
     "data": {
      "text/plain": [
       "[1, 2, 3, 'Harshit', 4, 5, 6, 7]"
      ]
     },
     "execution_count": 8,
     "metadata": {},
     "output_type": "execute_result"
    }
   ],
   "source": [
    "l12 = [1,2,3,4,5,6,7]\n",
    "l12.insert(3,\"Harshit\") # Insert takes two arguments the first one is index (where will you like to insert) and then the dataset (what will you like to insert) like in this case I want at index 3 I want my name to be inserted which happened\n",
    "l12"
   ]
  },
  {
   "cell_type": "code",
   "execution_count": 9,
   "metadata": {},
   "outputs": [
    {
     "data": {
      "text/plain": [
       "[1, 2, 3, 'Harshit', 4, 5, 6]"
      ]
     },
     "execution_count": 9,
     "metadata": {},
     "output_type": "execute_result"
    }
   ],
   "source": [
    "l12.pop() # So it will remove the data from the last index (-1) like in this case l12 7 will be gone or popped out. By default it takes that last element. You can also pass index as a parameter but INDEX SHOULD BE IN RANGE\n",
    "l12\n"
   ]
  },
  {
   "cell_type": "code",
   "execution_count": 10,
   "metadata": {},
   "outputs": [
    {
     "data": {
      "text/plain": [
       "[1, 2, 3, 4, 5, 6]"
      ]
     },
     "execution_count": 10,
     "metadata": {},
     "output_type": "execute_result"
    }
   ],
   "source": [
    "l12.pop(3) # If will pass a parameter inside the pop it will pop out the element from that index like in this I want to pop out the element which is at index 3 which is my name 'Harshit'.\n",
    "l12"
   ]
  },
  {
   "cell_type": "code",
   "execution_count": 11,
   "metadata": {},
   "outputs": [
    {
     "data": {
      "text/plain": [
       "[1, 3, 4, 5, 6]"
      ]
     },
     "execution_count": 11,
     "metadata": {},
     "output_type": "execute_result"
    }
   ],
   "source": [
    "l12.remove(2) # Removes instead of removing element from indexes it directly removes the element of the list like I will remove 2 it will remove the element 2 unlike pop which will pop out element from index 2 i.e 3 in this case (l12)\n",
    "l12"
   ]
  },
  {
   "cell_type": "code",
   "execution_count": 12,
   "metadata": {},
   "outputs": [
    {
     "data": {
      "text/plain": [
       "[1, 2, 3, 4, 5, 'harshit', 'Ashish', 12, 19, 20]"
      ]
     },
     "execution_count": 12,
     "metadata": {},
     "output_type": "execute_result"
    }
   ],
   "source": [
    "l13 = [1,2,3,4,5,'harshit','Ashish',12.6, 19,20]\n",
    "l13[7] = 12 # What I did here is item reassignment which is simple to understand that we simply replaced the element of that index like in this on 7th index we had 12.6 but now as we wanted 12 so we replaced it. It can be done because list is MUTABLE where is string is IMMUTABLE which means it can't be changed or item reassignment cannot be done\n",
    "l13"
   ]
  },
  {
   "cell_type": "markdown",
   "metadata": {},
   "source": [
    "# *Tuples* - Immutable entity"
   ]
  },
  {
   "cell_type": "code",
   "execution_count": 25,
   "metadata": {},
   "outputs": [
    {
     "data": {
      "text/plain": [
       "(1, 3, 5)"
      ]
     },
     "execution_count": 25,
     "metadata": {},
     "output_type": "execute_result"
    }
   ],
   "source": [
    "t1 = (1,2,3,4,5,6,7,8,'Harshit',12.6,True,99,100)\n",
    "t1[3] # We can do index slicing into a tuple\n",
    "t1[1:6]\n",
    "t1[-3]\n",
    "t1[0:6:2]\n",
    "# t1[1] = \"New Value\" # Tuples doesn't support item reassignment and hence are called IMMUTABLE ENTITY"
   ]
  },
  {
   "cell_type": "code",
   "execution_count": 26,
   "metadata": {},
   "outputs": [
    {
     "data": {
      "text/plain": [
       "(4,\n",
       " 5,\n",
       " 6,\n",
       " 7,\n",
       " 8,\n",
       " 'Ashish',\n",
       " 13.7,\n",
       " False,\n",
       " 98,\n",
       " 101,\n",
       " 1,\n",
       " 2,\n",
       " 3,\n",
       " 4,\n",
       " 5,\n",
       " 6,\n",
       " 7,\n",
       " 8,\n",
       " 'Harshit',\n",
       " 12.6,\n",
       " True,\n",
       " 99,\n",
       " 100)"
      ]
     },
     "execution_count": 26,
     "metadata": {},
     "output_type": "execute_result"
    }
   ],
   "source": [
    "t2 = (4,5,6,7,8,'Ashish',13.7,False,98,101)\n",
    "t2+t1 # Now a question may arise that if Tuples are immutable how come addition operation worked on it? The answer is we are not changing the internal value of any tuple, we are simply adding it so hence nothing is being changed it will work effectively"
   ]
  },
  {
   "cell_type": "markdown",
   "metadata": {},
   "source": [
    "* With Tuples we have only 2 functions available 1.count 2.index"
   ]
  },
  {
   "cell_type": "code",
   "execution_count": 27,
   "metadata": {},
   "outputs": [
    {
     "data": {
      "text/plain": [
       "(1, 8)"
      ]
     },
     "execution_count": 27,
     "metadata": {},
     "output_type": "execute_result"
    }
   ],
   "source": [
    "a= t1.count(3) # This will tell the count of number of occurences of an element within the tuple\n",
    "b= t1.index('Harshit') # This will tell you the index of an element\n",
    "\n",
    "a,b"
   ]
  },
  {
   "cell_type": "markdown",
   "metadata": {},
   "source": [
    "# *Set*"
   ]
  },
  {
   "cell_type": "markdown",
   "metadata": {},
   "source": [
    "* It is denoted by '{}' that's why people confuse between set and dictionary.\n",
    "* If a '{}' not using a key value pair then it is a set else it is a dictionary\n",
    "* It will always have unique entities and will remove all the duplicacies by default\n",
    "* We cannot do index slicing or fetch indexes of a set as it is not subscriptable. So to fetch index or to do index slicing we need to convert it into a list or a tuple\n",
    "* Set can contain immutable entites so a set can have tuple or string but it cannot have list as list is a mutable entity"
   ]
  },
  {
   "cell_type": "code",
   "execution_count": 72,
   "metadata": {},
   "outputs": [
    {
     "data": {
      "text/plain": [
       "set"
      ]
     },
     "execution_count": 72,
     "metadata": {},
     "output_type": "execute_result"
    }
   ],
   "source": [
    "s= {1,2,3}\n",
    "type(s)"
   ]
  },
  {
   "cell_type": "code",
   "execution_count": 73,
   "metadata": {},
   "outputs": [
    {
     "data": {
      "text/plain": [
       "{0, 1, 2, 3, 4, 5, 6, 7, 8, 9}"
      ]
     },
     "execution_count": 73,
     "metadata": {},
     "output_type": "execute_result"
    }
   ],
   "source": [
    "s1= {1,2,3,4,5,6,1,2,3,4,8,9,0,7,6,7,8,9,0}\n",
    "s1"
   ]
  },
  {
   "cell_type": "code",
   "execution_count": 74,
   "metadata": {},
   "outputs": [
    {
     "data": {
      "text/plain": [
       "{0, 1, 2, 3, 4, 5, 6, 7, 8, 9, 10}"
      ]
     },
     "execution_count": 74,
     "metadata": {},
     "output_type": "execute_result"
    }
   ],
   "source": [
    "s1.add(10)\n",
    "s1"
   ]
  },
  {
   "cell_type": "code",
   "execution_count": 75,
   "metadata": {},
   "outputs": [
    {
     "data": {
      "text/plain": [
       "(None, None)"
      ]
     },
     "execution_count": 75,
     "metadata": {},
     "output_type": "execute_result"
    }
   ],
   "source": [
    "a= s1.remove(1)\n",
    "b= s1.discard(100)\n",
    "\n",
    "# The only difference between remove and discard is that if a element is not present in the set remove will give a key error where else discard will do nothing and if the element is present both the delete the element from the set\n",
    "\n",
    "a,b"
   ]
  },
  {
   "cell_type": "markdown",
   "metadata": {},
   "source": [
    "# *Dictionary* - One of the most important thing to know"
   ]
  },
  {
   "cell_type": "code",
   "execution_count": 2,
   "metadata": {},
   "outputs": [
    {
     "data": {
      "text/plain": [
       "dict"
      ]
     },
     "execution_count": 2,
     "metadata": {},
     "output_type": "execute_result"
    }
   ],
   "source": [
    "d= {}\n",
    "type(d)\n",
    "\n",
    "# Dictionary can be said as a key:value pair else it will be a set. It is similar to json (javascript object notation)"
   ]
  },
  {
   "cell_type": "code",
   "execution_count": 3,
   "metadata": {},
   "outputs": [
    {
     "data": {
      "text/plain": [
       "(24, 24)"
      ]
     },
     "execution_count": 3,
     "metadata": {},
     "output_type": "execute_result"
    }
   ],
   "source": [
    "d1= {\n",
    "    'name': 'Harshit',\n",
    "    'age' : 24,\n",
    "    'email': 'harshit@abc.com',\n",
    "    'number': 1234567890\n",
    "}\n",
    "\n",
    "# In the case of dictionary keys act as your indexes so if you want to access any index it will be your key so for exacple if I want to know what is at my index of age or what is the value of age we have two option for the same which are mentioned below\n",
    "\n",
    "a= d1['age']\n",
    "b= d1.get('age')\n",
    "\n",
    "a,b"
   ]
  },
  {
   "cell_type": "code",
   "execution_count": 4,
   "metadata": {},
   "outputs": [
    {
     "data": {
      "text/plain": [
       "(True, False)"
      ]
     },
     "execution_count": 4,
     "metadata": {},
     "output_type": "execute_result"
    }
   ],
   "source": [
    "d2= {\n",
    "    'name': 'Harshit',\n",
    "    'tech_stack' : ['sql', 'python', 'dockers', 'git', 'Terraform']\n",
    "}\n",
    "\n",
    "a= 'git' in d2['tech_stack'] # If it want to know that is there value in the key of a dictionary. It will throw True\n",
    "b= 'machine learning' in d2['tech_stack'] # It will throw false\n",
    "# Always remember key should be unique values can be matching but keys should be unique. As they act as an index this is also one side of it that key should act as a unique thing\n",
    "# If you want to add something into dictionary which is not already present into it you can simply do it by the way of item reassignment like we do for example\n",
    "d2['work_profile'] = 'Engineer'\n",
    "\n",
    "a,b"
   ]
  },
  {
   "cell_type": "code",
   "execution_count": 5,
   "metadata": {},
   "outputs": [
    {
     "data": {
      "text/plain": [
       "{'name': 'Harshit',\n",
       " 'tech_stack': ['sql', 'python', 'dockers', 'git', 'Terraform'],\n",
       " 'work_profile': 'Engineer'}"
      ]
     },
     "execution_count": 5,
     "metadata": {},
     "output_type": "execute_result"
    }
   ],
   "source": [
    "# If you want to add something into dictionary which is NOT already present into it you can simply do it by the way of item reassignment but if the key is existing the value will be updated\n",
    "d2['work_profile'] = 'Engineer'\n",
    "d2\n"
   ]
  },
  {
   "cell_type": "code",
   "execution_count": 6,
   "metadata": {},
   "outputs": [
    {
     "data": {
      "text/plain": [
       "{'name': 'Harshit',\n",
       " 'tech_stack': ['sql', 'python', 'dockers', 'git', 'Terraform'],\n",
       " 'work_profile': 'Engineer',\n",
       " 'extended_dict': {'name': 'Harshit',\n",
       "  'age': 24,\n",
       "  'email': 'harshit@abc.com',\n",
       "  'number': 1234567890}}"
      ]
     },
     "execution_count": 6,
     "metadata": {},
     "output_type": "execute_result"
    }
   ],
   "source": [
    "# We can also a dictionary inside a dictonary by item reassignment\n",
    "d2['extended_dict'] = d1\n",
    "d3= d2\n",
    "d3"
   ]
  },
  {
   "cell_type": "code",
   "execution_count": 7,
   "metadata": {},
   "outputs": [
    {
     "data": {
      "text/plain": [
       "'harshit@abc.com'"
      ]
     },
     "execution_count": 7,
     "metadata": {},
     "output_type": "execute_result"
    }
   ],
   "source": [
    "# If we want to fetch the email from d3 we can do it by index thing. This concept is usefull when fetching the data from any dynamodb stream\n",
    "\n",
    "d3['extended_dict']['email']"
   ]
  },
  {
   "cell_type": "markdown",
   "metadata": {},
   "source": [
    "* Inside a dictionary we can have list as a key or tuple as key but a dictionary cannot be a key"
   ]
  },
  {
   "cell_type": "markdown",
   "metadata": {},
   "source": [
    "# Working with the functions of dictionary"
   ]
  },
  {
   "cell_type": "code",
   "execution_count": 8,
   "metadata": {},
   "outputs": [
    {
     "data": {
      "text/plain": [
       "(dict_keys(['name', 'tech_stack', 'work_profile', 'extended_dict']),\n",
       " dict_items([('name', 'Harshit'), ('tech_stack', ['sql', 'python', 'dockers', 'git', 'Terraform']), ('work_profile', 'Engineer'), ('extended_dict', {'name': 'Harshit', 'age': 24, 'email': 'harshit@abc.com', 'number': 1234567890})]),\n",
       " dict_values(['Harshit', ['sql', 'python', 'dockers', 'git', 'Terraform'], 'Engineer', {'name': 'Harshit', 'age': 24, 'email': 'harshit@abc.com', 'number': 1234567890}]))"
      ]
     },
     "execution_count": 8,
     "metadata": {},
     "output_type": "execute_result"
    }
   ],
   "source": [
    "# To fetch all the keys or values of a dictionary\n",
    "a= d3.keys()\n",
    "b= d3.items()\n",
    "c= d3.values()\n",
    "a,b,c"
   ]
  },
  {
   "cell_type": "markdown",
   "metadata": {},
   "source": [
    "# TASK"
   ]
  },
  {
   "cell_type": "code",
   "execution_count": 80,
   "metadata": {},
   "outputs": [],
   "source": [
    "# l16 = [1,2,3,4,5,[10,11,12,13,14,15],[16,17,18,19,20],(21,22,23),{'name':'Harshit','age':24,'stack':['sql','python']},6,7,8,9]\n",
    "# a= l16[::-1] #try to reverse a list\n",
    "# b= l16[7][0] # try to extract 21 out of tuple\n",
    "# c= l16[5][1] # try to extract 11 out of list\n",
    "# d= l16[5:7] # try to print all the list\n",
    "# e= l16[8]['stack'] # try to print all the values of key 'stack'\n",
    "# f= l16[8].keys() # try to print all the keys available in the dictionary\n",
    "# g= l16[8].items() # try to print all the values available in the dictionary\n",
    "\n",
    "# a,b,c,d,e,f,g"
   ]
  },
  {
   "cell_type": "code",
   "execution_count": null,
   "metadata": {},
   "outputs": [],
   "source": []
  }
 ],
 "metadata": {
  "kernelspec": {
   "display_name": "Python 3",
   "language": "python",
   "name": "python3"
  },
  "language_info": {
   "codemirror_mode": {
    "name": "ipython",
    "version": 3
   },
   "file_extension": ".py",
   "mimetype": "text/x-python",
   "name": "python",
   "nbconvert_exporter": "python",
   "pygments_lexer": "ipython3",
   "version": "3.12.2"
  }
 },
 "nbformat": 4,
 "nbformat_minor": 2
}
