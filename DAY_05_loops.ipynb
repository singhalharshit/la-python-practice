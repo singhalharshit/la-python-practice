{
 "cells": [
  {
   "cell_type": "markdown",
   "metadata": {},
   "source": [
    "# Loops\n",
    "* for loop\n",
    "* while loop\n",
    "* for each loop - not used in python"
   ]
  },
  {
   "cell_type": "code",
   "execution_count": 32,
   "metadata": {},
   "outputs": [
    {
     "name": "stdout",
     "output_type": "stream",
     "text": [
      "1\n",
      "2\n",
      "3\n",
      "4\n",
      "5\n",
      "Harshit\n",
      "12.6\n",
      "Singhal\n"
     ]
    }
   ],
   "source": [
    "l= [1,2,3,4,5,\"Harshit\",12.6,\"Singhal\"]\n",
    "for i in l:\n",
    "    print(i)"
   ]
  },
  {
   "cell_type": "code",
   "execution_count": 34,
   "metadata": {},
   "outputs": [
    {
     "name": "stdout",
     "output_type": "stream",
     "text": [
      "2\n",
      "3\n",
      "4\n",
      "5\n",
      "6\n",
      "Harshit\n",
      "13.6\n",
      "Singhal\n"
     ]
    }
   ],
   "source": [
    "# using if and else in a loop - now there is a task in which we have to add 1 to every element of the list and we can see that there is a string in the list in which 1 can't be added so we need to handle that\n",
    "\n",
    "for i in l:\n",
    "    if isinstance(i,str):\n",
    "        pass # This will pass all the strings and will print rest of every element\n",
    "        # continue # This will print the whole list\n",
    "    else:\n",
    "        i+=1\n",
    "    print(i)"
   ]
  },
  {
   "cell_type": "code",
   "execution_count": 4,
   "metadata": {},
   "outputs": [
    {
     "name": "stdout",
     "output_type": "stream",
     "text": [
      "H\n",
      "a\n",
      "r\n",
      "s\n",
      "h\n"
     ]
    }
   ],
   "source": [
    "s= \"Harshit\"\n",
    "\n",
    "for i in s:\n",
    "    if i == 'i':\n",
    "        break\n",
    "    print(i)\n",
    "else:\n",
    "    print('print string',s )\n",
    "\n",
    "# This is to demonstrate that else statement can be used with for looop"
   ]
  },
  {
   "cell_type": "code",
   "execution_count": 4,
   "metadata": {},
   "outputs": [
    {
     "name": "stdout",
     "output_type": "stream",
     "text": [
      "1\n",
      "2\n",
      "3\n",
      "4\n",
      "5\n",
      "6\n",
      "Harshit\n"
     ]
    }
   ],
   "source": [
    "# using for loop with tuples\n",
    "\n",
    "t= (1,2,3,4,5,6,\"Harshit\")\n",
    "for i in t:\n",
    "    print(i)\n"
   ]
  },
  {
   "cell_type": "code",
   "execution_count": 6,
   "metadata": {},
   "outputs": [
    {
     "name": "stdout",
     "output_type": "stream",
     "text": [
      "0 1 2 3 4 5 6 7 8 9 "
     ]
    }
   ],
   "source": [
    "# for loop using set\n",
    "\n",
    "b= {1,1,2,3,4,5,2,3,4,5,6,7,6,7,8,9,0,1,2,3,4}\n",
    "type(b)\n",
    "\n",
    "for i in b:\n",
    "    print(i, end=\" \") # this end= \" \" it does nothing but prints the result in the same line instead of line by line"
   ]
  },
  {
   "cell_type": "code",
   "execution_count": 11,
   "metadata": {},
   "outputs": [
    {
     "name": "stdout",
     "output_type": "stream",
     "text": [
      "key\n",
      "key2\n",
      "key3\n",
      "key4\n"
     ]
    }
   ],
   "source": [
    "# for loop with dict\n",
    "\n",
    "d= {\n",
    "    'key': 'value',\n",
    "    'key2': 'value2',\n",
    "    'key3': 'value3',\n",
    "    'key4': 'value4'\n",
    "}\n",
    "\n",
    "for i in d:\n",
    "    print(i)\n",
    "\n",
    "# The above code will fetch only keys from a dict, we could have also used for i in d.keys(). To fetch value we need to use d.values() like for i in d.values() or check the below code"
   ]
  },
  {
   "cell_type": "code",
   "execution_count": 14,
   "metadata": {},
   "outputs": [
    {
     "name": "stdout",
     "output_type": "stream",
     "text": [
      "value\n",
      "value2\n",
      "value3\n",
      "value4\n"
     ]
    }
   ],
   "source": [
    "# for i in d:\n",
    "#     print(d[i])\n",
    "\n",
    "for i in d.values():\n",
    "    print(i)\n",
    "\n",
    "# Both the code will give same result"
   ]
  },
  {
   "cell_type": "code",
   "execution_count": 15,
   "metadata": {},
   "outputs": [
    {
     "name": "stdout",
     "output_type": "stream",
     "text": [
      "key value\n",
      "key2 value2\n",
      "key3 value3\n",
      "key4 value4\n"
     ]
    }
   ],
   "source": [
    "# To get both keys and values\n",
    "\n",
    "for i in d:\n",
    "    print(i, d[i])\n",
    "\n",
    "# This code will give you both keys and values"
   ]
  },
  {
   "cell_type": "markdown",
   "metadata": {},
   "source": [
    "# Star Patterns "
   ]
  },
  {
   "cell_type": "code",
   "execution_count": 68,
   "metadata": {},
   "outputs": [
    {
     "name": "stdout",
     "output_type": "stream",
     "text": [
      "* \n",
      "* * \n",
      "* * * \n",
      "* * * * \n",
      "* * * * * \n"
     ]
    }
   ],
   "source": [
    "\"\"\"\n",
    "Playing with star patterns\n",
    "\n",
    "*\n",
    "**\n",
    "***\n",
    "****\n",
    "*****\n",
    "\"\"\"\n",
    "\n",
    "for i in range (0,5):\n",
    "    for j in range (0,i+1):\n",
    "        print('*', end= \" \")\n",
    "    print(\"\")\n",
    "\n"
   ]
  },
  {
   "cell_type": "code",
   "execution_count": 111,
   "metadata": {},
   "outputs": [
    {
     "name": "stdout",
     "output_type": "stream",
     "text": [
      "*  \n",
      "* * *  \n",
      "* * * * * *  \n"
     ]
    }
   ],
   "source": [
    "\"\"\"\n",
    "    *\n",
    "  * * *\n",
    "* * * * * \n",
    "\n",
    "\"\"\"\n",
    "\n",
    "n=4\n",
    "for i in range (1,n):\n",
    "    start = int(i*((i+1)/2))\n",
    "    end = int(i*(i+1))\n",
    "    for j in range(start, end):\n",
    "        print('*', end= \" \")\n",
    "    print(\" \")"
   ]
  },
  {
   "cell_type": "markdown",
   "metadata": {},
   "source": [
    "# While Loop"
   ]
  },
  {
   "cell_type": "code",
   "execution_count": 2,
   "metadata": {},
   "outputs": [
    {
     "name": "stdout",
     "output_type": "stream",
     "text": [
      "1\n",
      "2\n",
      "3\n",
      "4\n",
      "5\n",
      "6\n",
      "7\n",
      "8\n",
      "9\n",
      "10\n"
     ]
    }
   ],
   "source": [
    "a= 1\n",
    "b= 10\n",
    "\n",
    "while a<=10:\n",
    "    print(a)\n",
    "    a+=1\n",
    "    "
   ]
  },
  {
   "cell_type": "code",
   "execution_count": 1,
   "metadata": {},
   "outputs": [
    {
     "ename": "NameError",
     "evalue": "name 'a' is not defined",
     "output_type": "error",
     "traceback": [
      "\u001b[1;31m---------------------------------------------------------------------------\u001b[0m",
      "\u001b[1;31mNameError\u001b[0m                                 Traceback (most recent call last)",
      "Cell \u001b[1;32mIn[1], line 3\u001b[0m\n\u001b[0;32m      1\u001b[0m \u001b[38;5;66;03m# Else condition with while\u001b[39;00m\n\u001b[1;32m----> 3\u001b[0m \u001b[38;5;28;01mwhile\u001b[39;00m \u001b[43ma\u001b[49m\u001b[38;5;241m<\u001b[39m\u001b[38;5;241m=\u001b[39m\u001b[38;5;241m10\u001b[39m:\n\u001b[0;32m      4\u001b[0m     \u001b[38;5;28mprint\u001b[39m(a)\n\u001b[0;32m      5\u001b[0m     a\u001b[38;5;241m+\u001b[39m\u001b[38;5;241m=\u001b[39m\u001b[38;5;241m2\u001b[39m\n",
      "\u001b[1;31mNameError\u001b[0m: name 'a' is not defined"
     ]
    }
   ],
   "source": [
    "# Else condition with while\n",
    "\n",
    "while a<=10:\n",
    "    print(a)\n",
    "    a+=2\n",
    "else:\n",
    "    print('this is else block')\n",
    "\n",
    "# This has printed the else block because from the previous block the value of a has become 10 and this fals in else block"
   ]
  },
  {
   "cell_type": "code",
   "execution_count": 3,
   "metadata": {},
   "outputs": [
    {
     "name": "stdout",
     "output_type": "stream",
     "text": [
      "11\n",
      "12\n",
      "13\n",
      "14\n",
      "15\n"
     ]
    }
   ],
   "source": [
    "c=11\n",
    "d=20\n",
    "\n",
    "while c<d:\n",
    "    print(c)\n",
    "    if c==15:\n",
    "        break\n",
    "    c+=1\n",
    "else:\n",
    "    print('This falls in else block')"
   ]
  },
  {
   "cell_type": "code",
   "execution_count": 7,
   "metadata": {},
   "outputs": [
    {
     "name": "stdout",
     "output_type": "stream",
     "text": [
      "10\n",
      "20\n",
      "30\n",
      "40\n",
      "50\n",
      "60\n"
     ]
    }
   ],
   "source": [
    "# Iterating a list with the help of while\n",
    "\n",
    "l= [10,20,30,40,50,60]\n",
    "\n",
    "a=0\n",
    "while a<len(l):\n",
    "    print(l[a])\n",
    "    a+=1"
   ]
  },
  {
   "cell_type": "code",
   "execution_count": 23,
   "metadata": {},
   "outputs": [
    {
     "name": "stdout",
     "output_type": "stream",
     "text": [
      "2\n",
      "3\n"
     ]
    }
   ],
   "source": [
    "# Iterating a tuple with the help of while and to find index of element 30,40\n",
    "\n",
    "t= (10,20,30,40,50,60)\n",
    "a=0\n",
    "while a<len(t):\n",
    "    if t[a]==30 or t[a]==40:\n",
    "        print(a)  \n",
    "    a+=1\n",
    "\n"
   ]
  },
  {
   "cell_type": "code",
   "execution_count": null,
   "metadata": {},
   "outputs": [],
   "source": []
  }
 ],
 "metadata": {
  "kernelspec": {
   "display_name": "Python 3",
   "language": "python",
   "name": "python3"
  },
  "language_info": {
   "codemirror_mode": {
    "name": "ipython",
    "version": 3
   },
   "file_extension": ".py",
   "mimetype": "text/x-python",
   "name": "python",
   "nbconvert_exporter": "python",
   "pygments_lexer": "ipython3",
   "version": "3.12.2"
  }
 },
 "nbformat": 4,
 "nbformat_minor": 2
}
