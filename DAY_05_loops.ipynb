{
 "cells": [
  {
   "cell_type": "markdown",
   "metadata": {},
   "source": [
    "# Loops\n",
    "* for loop\n",
    "* while loop\n",
    "* for each loop - not used in python"
   ]
  },
  {
   "cell_type": "code",
   "execution_count": 32,
   "metadata": {},
   "outputs": [
    {
     "name": "stdout",
     "output_type": "stream",
     "text": [
      "1\n",
      "2\n",
      "3\n",
      "4\n",
      "5\n",
      "Harshit\n",
      "12.6\n",
      "Singhal\n"
     ]
    }
   ],
   "source": [
    "l= [1,2,3,4,5,\"Harshit\",12.6,\"Singhal\"]\n",
    "for i in l:\n",
    "    print(i)"
   ]
  },
  {
   "cell_type": "code",
   "execution_count": 34,
   "metadata": {},
   "outputs": [
    {
     "name": "stdout",
     "output_type": "stream",
     "text": [
      "2\n",
      "3\n",
      "4\n",
      "5\n",
      "6\n",
      "Harshit\n",
      "13.6\n",
      "Singhal\n"
     ]
    }
   ],
   "source": [
    "# using if and else in a loop - now there is a task in which we have to add 1 to every element of the list and we can see that there is a string in the list in which 1 can't be added so we need to handle that\n",
    "\n",
    "for i in l:\n",
    "    if isinstance(i,str):\n",
    "        pass # This will pass all the strings and will print rest of every element\n",
    "        # continue # This will print the whole list\n",
    "    else:\n",
    "        i+=1\n",
    "    print(i)"
   ]
  },
  {
   "cell_type": "code",
   "execution_count": 4,
   "metadata": {},
   "outputs": [
    {
     "name": "stdout",
     "output_type": "stream",
     "text": [
      "H\n",
      "a\n",
      "r\n",
      "s\n",
      "h\n"
     ]
    }
   ],
   "source": [
    "s= \"Harshit\"\n",
    "\n",
    "for i in s:\n",
    "    if i == 'i':\n",
    "        break\n",
    "    print(i)\n",
    "else:\n",
    "    print('print string',s )\n",
    "\n",
    "# This is to demonstrate that else statement can be used with for looop"
   ]
  },
  {
   "cell_type": "code",
   "execution_count": null,
   "metadata": {},
   "outputs": [],
   "source": []
  }
 ],
 "metadata": {
  "kernelspec": {
   "display_name": "Python 3",
   "language": "python",
   "name": "python3"
  },
  "language_info": {
   "codemirror_mode": {
    "name": "ipython",
    "version": 3
   },
   "file_extension": ".py",
   "mimetype": "text/x-python",
   "name": "python",
   "nbconvert_exporter": "python",
   "pygments_lexer": "ipython3",
   "version": "3.12.2"
  }
 },
 "nbformat": 4,
 "nbformat_minor": 2
}
