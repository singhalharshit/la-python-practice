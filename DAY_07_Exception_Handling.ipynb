{
 "cells": [
  {
   "cell_type": "markdown",
   "metadata": {},
   "source": [
    "# Exception Handling\n",
    "* One of the most important part of coding when doing work in company or even in self projects\n",
    "* Exception handling is used to catch mistakes being caused during the runtime or execution of a code\n"
   ]
  },
  {
   "cell_type": "code",
   "execution_count": 1,
   "metadata": {},
   "outputs": [
    {
     "ename": "ZeroDivisionError",
     "evalue": "division by zero",
     "output_type": "error",
     "traceback": [
      "\u001b[1;31m---------------------------------------------------------------------------\u001b[0m",
      "\u001b[1;31mZeroDivisionError\u001b[0m                         Traceback (most recent call last)",
      "Cell \u001b[1;32mIn[1], line 2\u001b[0m\n\u001b[0;32m      1\u001b[0m a\u001b[38;5;241m=\u001b[39m\u001b[38;5;241m100\u001b[39m\n\u001b[1;32m----> 2\u001b[0m b\u001b[38;5;241m=\u001b[39m \u001b[43ma\u001b[49m\u001b[38;5;241;43m/\u001b[39;49m\u001b[38;5;241;43m0\u001b[39;49m\n\u001b[0;32m      3\u001b[0m \u001b[38;5;28mprint\u001b[39m(b)\n\u001b[0;32m      5\u001b[0m \u001b[38;5;66;03m# Now this code is giving me error which is expected as if we divide anything by 0 we will get infinity (which in normal python is an error unitll you import numpy) which has to give an error\u001b[39;00m\n",
      "\u001b[1;31mZeroDivisionError\u001b[0m: division by zero"
     ]
    }
   ],
   "source": [
    "a=100\n",
    "b= a/0\n",
    "print(b)\n",
    "\n",
    "# Now this code is giving me error which is expected as if we divide anything by 0 we will get infinity (which in normal python is an error unitll you import numpy) which has to give an error"
   ]
  },
  {
   "cell_type": "code",
   "execution_count": 2,
   "metadata": {},
   "outputs": [
    {
     "name": "stdout",
     "output_type": "stream",
     "text": [
      "It's an error: division by zero\n"
     ]
    }
   ],
   "source": [
    "# So to handle these situations we use try and except and finally block or Exception handling comes in action. so to handle the above code we can go like\n",
    "\n",
    "try:\n",
    "    a=100\n",
    "    b= a/0\n",
    "    print(b)\n",
    "except Exception as e:\n",
    "    print(\"It's an error:\",e)"
   ]
  },
  {
   "cell_type": "code",
   "execution_count": 3,
   "metadata": {},
   "outputs": [
    {
     "name": "stdout",
     "output_type": "stream",
     "text": [
      "10.0\n"
     ]
    }
   ],
   "source": [
    "# So whenever we are writing a code and there are chances that our code can break anywhere we use try and except block so that whenever the code breaks the except block catches it and the error is known to us and if the code works fine the try block executes it and it is passed further. Like in the below example\n",
    "\n",
    "try:\n",
    "    a=100\n",
    "    b= a/10\n",
    "    print(b)\n",
    "except Exception as e:\n",
    "    print(\"It's an error:\",e)\n",
    "\n",
    "# The code execution went successfull and hence the output came from the try block instead of except block"
   ]
  },
  {
   "cell_type": "code",
   "execution_count": 4,
   "metadata": {},
   "outputs": [
    {
     "name": "stdout",
     "output_type": "stream",
     "text": [
      "The File not found and the error is: [Errno 2] No such file or directory: 'harshit.txt'\n"
     ]
    }
   ],
   "source": [
    "# Handling more issues like file handling\n",
    "\n",
    "try:\n",
    "    f= open('harshit.txt','r')\n",
    "except Exception as e:\n",
    "    print(\"The File not found and the error is:\",e)\n",
    "\n",
    "# And hence we don't have file named harshit.txt in the folder so it is giving us an error"
   ]
  },
  {
   "cell_type": "code",
   "execution_count": 5,
   "metadata": {},
   "outputs": [],
   "source": [
    "# When opening the correct file\n",
    "\n",
    "try:\n",
    "    f= open(\"E:/Coding Practice/la-python-practice/test.log\", 'r')\n",
    "except Exception as e:\n",
    "    print('File not found: ',e)\n",
    "\n",
    "\n",
    "# Hence the file is found so it has thrown no error"
   ]
  },
  {
   "cell_type": "markdown",
   "metadata": {},
   "source": [
    "# Reading about Finally block now"
   ]
  },
  {
   "cell_type": "code",
   "execution_count": 3,
   "metadata": {},
   "outputs": [
    {
     "name": "stdout",
     "output_type": "stream",
     "text": [
      "division by zero\n",
      "My Finally Block print statement\n"
     ]
    }
   ],
   "source": [
    "# Finally block is a block which will run either your try block fails or your except block fails\n",
    "\n",
    "try:\n",
    "    a=10\n",
    "    b= a/0\n",
    "    print(b)\n",
    "except Exception as e:\n",
    "    print(e)\n",
    "finally:\n",
    "    print('My Finally Block print statement')"
   ]
  },
  {
   "cell_type": "code",
   "execution_count": 4,
   "metadata": {},
   "outputs": [],
   "source": [
    "def valid_input():\n",
    "    while True:\n",
    "        try:\n",
    "            value = int(input(\"Enter your Value:\"))\n",
    "            print(value)\n",
    "            break\n",
    "        except:\n",
    "            print('Not an Integer type')\n",
    "            continue\n",
    "        # finally:\n",
    "        #     print('Finally you are correct')"
   ]
  },
  {
   "cell_type": "code",
   "execution_count": 5,
   "metadata": {},
   "outputs": [
    {
     "name": "stdout",
     "output_type": "stream",
     "text": [
      "Not an Integer type\n",
      "Not an Integer type\n",
      "Not an Integer type\n",
      "1\n"
     ]
    }
   ],
   "source": [
    "valid_input()"
   ]
  },
  {
   "cell_type": "code",
   "execution_count": null,
   "metadata": {},
   "outputs": [],
   "source": []
  }
 ],
 "metadata": {
  "kernelspec": {
   "display_name": "Python 3",
   "language": "python",
   "name": "python3"
  },
  "language_info": {
   "codemirror_mode": {
    "name": "ipython",
    "version": 3
   },
   "file_extension": ".py",
   "mimetype": "text/x-python",
   "name": "python",
   "nbconvert_exporter": "python",
   "pygments_lexer": "ipython3",
   "version": "3.12.2"
  }
 },
 "nbformat": 4,
 "nbformat_minor": 2
}
